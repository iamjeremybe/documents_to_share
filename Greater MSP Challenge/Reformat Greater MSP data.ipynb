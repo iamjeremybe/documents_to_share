{
 "cells": [
  {
   "cell_type": "markdown",
   "metadata": {
    "slideshow": {
     "slide_type": "slide"
    }
   },
   "source": [
    "# Greater MSP 2019 Data Visualization Challenge\n",
    "\n",
    "## Team:\n",
    "* David Treiber - david.treiber@gmail.com\n",
    "* Jeremy Brezovan - jeremy.brezovan@gmail.com\n",
    "* Megan Menth - meganlmenth@gmail.com\n",
    "\n",
    "## [Github repository](https://github.com/iamjeremybe/documents_to_share/tree/master/Greater%20MSP%20Challenge)"
   ]
  },
  {
   "cell_type": "markdown",
   "metadata": {
    "slideshow": {
     "slide_type": "slide"
    }
   },
   "source": [
    "## Reformatting Greater MSP's data\n",
    "\n",
    "For this visualization challenge, we were given an Excel workbook with multiple sheets. A significant part of the challenge was wrangling this workbook into a usable form.\n",
    "\n",
    "We chose to reformat the data and export it as a CSV for use in Tableau.\n",
    "\n",
    "Our team's first pass at parsing the workbook used Alteryx. We ultimately decided to switch to Python, for a cheaper, open source solution."
   ]
  },
  {
   "cell_type": "markdown",
   "metadata": {
    "slideshow": {
     "slide_type": "subslide"
    }
   },
   "source": [
    "### The format we chose has these advantages:\n",
    "* The new format is consistent--data can easily be loaded into a database, or used as a data source by your visualization tool of choice.\n",
    "* Including a new indicator, or year's worth of data, is as easy as appending those rows to the existing file in the same format.\n",
    "* As indicators change over time, or data for earlier years is no longer needed, those rows can be dropped or filtered from the file with very little work."
   ]
  },
  {
   "cell_type": "code",
   "execution_count": 1,
   "metadata": {
    "slideshow": {
     "slide_type": "skip"
    }
   },
   "outputs": [],
   "source": [
    "import numpy as np\n",
    "import pandas as pd\n",
    "import math"
   ]
  },
  {
   "cell_type": "code",
   "execution_count": 2,
   "metadata": {
    "slideshow": {
     "slide_type": "skip"
    }
   },
   "outputs": [],
   "source": [
    "file_path = '/home/jeremy/Documents/Greater MSP Challenge'\n",
    "file_name = file_path + '/Historical Data - Prior Dashboard - Color Guides/2015-2019 Dashboard Trends_all.xlsx'"
   ]
  },
  {
   "cell_type": "code",
   "execution_count": 3,
   "metadata": {
    "slideshow": {
     "slide_type": "skip"
    }
   },
   "outputs": [],
   "source": [
    "dfs = pd.read_excel(file_name, sheet_name=None, header=None)"
   ]
  },
  {
   "cell_type": "markdown",
   "metadata": {
    "slideshow": {
     "slide_type": "slide"
    }
   },
   "source": [
    "## Parsing the workbook\n",
    "\n",
    "Here's a high-level look at how the Excel workbook was transformed into the CSV file we loaded into Tableau."
   ]
  },
  {
   "cell_type": "markdown",
   "metadata": {},
   "source": [
    "![Converting Excel to CSV](./Greater_MSP_fade.png)"
   ]
  },
  {
   "cell_type": "markdown",
   "metadata": {
    "slideshow": {
     "slide_type": "notes"
    }
   },
   "source": [
    "Each sheet of the Excel workbook is represented by a key/value pair in dfs:"
   ]
  },
  {
   "cell_type": "code",
   "execution_count": 4,
   "metadata": {
    "slideshow": {
     "slide_type": "skip"
    }
   },
   "outputs": [
    {
     "data": {
      "text/plain": [
       "dict_keys(['Key Indicators', 'Economy', 'BV', 'Talent', 'Education', 'Infrastructure', 'Environment', 'Livability', 'Vital Stats'])"
      ]
     },
     "execution_count": 4,
     "metadata": {},
     "output_type": "execute_result"
    }
   ],
   "source": [
    "dfs.keys()"
   ]
  },
  {
   "cell_type": "markdown",
   "metadata": {
    "slideshow": {
     "slide_type": "slide"
    }
   },
   "source": [
    "## Capturing Key Indicators from the first sheet\n",
    "\n",
    "The important info to capture from the first sheet, Key Indicators, includes the name of the indicator and its category.\n",
    "\n",
    "Stats for Key Indicators on the first sheet are doubled up on the other sheets, so we don't need to capture them."
   ]
  },
  {
   "cell_type": "markdown",
   "metadata": {
    "slideshow": {
     "slide_type": "notes"
    }
   },
   "source": [
    "The first sheet has an extra row, \"Dashboard Category\", that does not exist in the other sheets. This extra row tells us which sheet the indicators are coming from.\n",
    "\n",
    "The remaining sheets represent the data behind each set of stats on the Key Indicators sheet, and additional indicators. They seem to have the same structure, so looping through them will be easier."
   ]
  },
  {
   "cell_type": "code",
   "execution_count": 5,
   "metadata": {
    "scrolled": true,
    "slideshow": {
     "slide_type": "skip"
    }
   },
   "outputs": [
    {
     "data": {
      "text/html": [
       "<div>\n",
       "<style scoped>\n",
       "    .dataframe tbody tr th:only-of-type {\n",
       "        vertical-align: middle;\n",
       "    }\n",
       "\n",
       "    .dataframe tbody tr th {\n",
       "        vertical-align: top;\n",
       "    }\n",
       "\n",
       "    .dataframe thead th {\n",
       "        text-align: right;\n",
       "    }\n",
       "</style>\n",
       "<table border=\"1\" class=\"dataframe\">\n",
       "  <thead>\n",
       "    <tr style=\"text-align: right;\">\n",
       "      <th></th>\n",
       "      <th>0</th>\n",
       "      <th>1</th>\n",
       "      <th>2</th>\n",
       "      <th>3</th>\n",
       "      <th>4</th>\n",
       "      <th>5</th>\n",
       "      <th>6</th>\n",
       "      <th>7</th>\n",
       "      <th>8</th>\n",
       "      <th>9</th>\n",
       "      <th>...</th>\n",
       "      <th>66</th>\n",
       "      <th>67</th>\n",
       "      <th>68</th>\n",
       "      <th>69</th>\n",
       "      <th>70</th>\n",
       "      <th>71</th>\n",
       "      <th>72</th>\n",
       "      <th>73</th>\n",
       "      <th>74</th>\n",
       "      <th>75</th>\n",
       "    </tr>\n",
       "  </thead>\n",
       "  <tbody>\n",
       "    <tr>\n",
       "      <th>3</th>\n",
       "      <td>Dashboard Category</td>\n",
       "      <td>Economy</td>\n",
       "      <td>NaN</td>\n",
       "      <td>NaN</td>\n",
       "      <td>NaN</td>\n",
       "      <td>NaN</td>\n",
       "      <td>Economy</td>\n",
       "      <td>NaN</td>\n",
       "      <td>NaN</td>\n",
       "      <td>NaN</td>\n",
       "      <td>...</td>\n",
       "      <td>Livability</td>\n",
       "      <td>NaN</td>\n",
       "      <td>NaN</td>\n",
       "      <td>NaN</td>\n",
       "      <td>NaN</td>\n",
       "      <td>Livability</td>\n",
       "      <td>NaN</td>\n",
       "      <td>NaN</td>\n",
       "      <td>NaN</td>\n",
       "      <td>NaN</td>\n",
       "    </tr>\n",
       "    <tr>\n",
       "      <th>4</th>\n",
       "      <td>Indicator Title</td>\n",
       "      <td>Yearly Job Growth</td>\n",
       "      <td>NaN</td>\n",
       "      <td>NaN</td>\n",
       "      <td>NaN</td>\n",
       "      <td>NaN</td>\n",
       "      <td>Employment Gap (White-Of Color)</td>\n",
       "      <td>NaN</td>\n",
       "      <td>NaN</td>\n",
       "      <td>NaN</td>\n",
       "      <td>...</td>\n",
       "      <td>Percent of Cost-Burdened Households</td>\n",
       "      <td>NaN</td>\n",
       "      <td>NaN</td>\n",
       "      <td>NaN</td>\n",
       "      <td>NaN</td>\n",
       "      <td>Annual Change in Median Apartment Rent (Overall)</td>\n",
       "      <td>NaN</td>\n",
       "      <td>NaN</td>\n",
       "      <td>NaN</td>\n",
       "      <td>NaN</td>\n",
       "    </tr>\n",
       "  </tbody>\n",
       "</table>\n",
       "<p>2 rows × 76 columns</p>\n",
       "</div>"
      ],
      "text/plain": [
       "                   0                  1    2    3    4    5   \\\n",
       "3  Dashboard Category            Economy  NaN  NaN  NaN  NaN   \n",
       "4     Indicator Title  Yearly Job Growth  NaN  NaN  NaN  NaN   \n",
       "\n",
       "                                6    7    8    9   ...  \\\n",
       "3                          Economy  NaN  NaN  NaN  ...   \n",
       "4  Employment Gap (White-Of Color)  NaN  NaN  NaN  ...   \n",
       "\n",
       "                                    66   67   68   69   70  \\\n",
       "3                           Livability  NaN  NaN  NaN  NaN   \n",
       "4  Percent of Cost-Burdened Households  NaN  NaN  NaN  NaN   \n",
       "\n",
       "                                                 71   72   73   74   75  \n",
       "3                                        Livability  NaN  NaN  NaN  NaN  \n",
       "4  Annual Change in Median Apartment Rent (Overall)  NaN  NaN  NaN  NaN  \n",
       "\n",
       "[2 rows x 76 columns]"
      ]
     },
     "execution_count": 5,
     "metadata": {},
     "output_type": "execute_result"
    }
   ],
   "source": [
    "dfs['Key Indicators'].loc[[3,4]]"
   ]
  },
  {
   "cell_type": "code",
   "execution_count": 6,
   "metadata": {
    "scrolled": true,
    "slideshow": {
     "slide_type": "skip"
    }
   },
   "outputs": [
    {
     "data": {
      "text/html": [
       "<div>\n",
       "<style scoped>\n",
       "    .dataframe tbody tr th:only-of-type {\n",
       "        vertical-align: middle;\n",
       "    }\n",
       "\n",
       "    .dataframe tbody tr th {\n",
       "        vertical-align: top;\n",
       "    }\n",
       "\n",
       "    .dataframe thead th {\n",
       "        text-align: right;\n",
       "    }\n",
       "</style>\n",
       "<table border=\"1\" class=\"dataframe\">\n",
       "  <thead>\n",
       "    <tr style=\"text-align: right;\">\n",
       "      <th></th>\n",
       "      <th>0</th>\n",
       "      <th>1</th>\n",
       "      <th>6</th>\n",
       "      <th>11</th>\n",
       "      <th>16</th>\n",
       "      <th>21</th>\n",
       "      <th>26</th>\n",
       "      <th>31</th>\n",
       "      <th>36</th>\n",
       "      <th>41</th>\n",
       "      <th>46</th>\n",
       "      <th>51</th>\n",
       "      <th>56</th>\n",
       "      <th>61</th>\n",
       "      <th>66</th>\n",
       "      <th>71</th>\n",
       "    </tr>\n",
       "  </thead>\n",
       "  <tbody>\n",
       "    <tr>\n",
       "      <th>3</th>\n",
       "      <td>Dashboard Category</td>\n",
       "      <td>Economy</td>\n",
       "      <td>Economy</td>\n",
       "      <td>Business Vitality</td>\n",
       "      <td>Business Vitality</td>\n",
       "      <td>Talent</td>\n",
       "      <td>Talent</td>\n",
       "      <td>Talent</td>\n",
       "      <td>Education</td>\n",
       "      <td>Education</td>\n",
       "      <td>Infrastructure</td>\n",
       "      <td>Infrastructure</td>\n",
       "      <td>Environment</td>\n",
       "      <td>Environment</td>\n",
       "      <td>Livability</td>\n",
       "      <td>Livability</td>\n",
       "    </tr>\n",
       "    <tr>\n",
       "      <th>4</th>\n",
       "      <td>Indicator Title</td>\n",
       "      <td>Yearly Job Growth</td>\n",
       "      <td>Employment Gap (White-Of Color)</td>\n",
       "      <td>New Establishments (State Level)</td>\n",
       "      <td>Establishments Surviving 5 Years (State Level)</td>\n",
       "      <td>Net Migration Of 25-34 Year Olds</td>\n",
       "      <td>Females Aged 16-64 Years Working</td>\n",
       "      <td>Population 25+ with Bachelor's Degree or Higher</td>\n",
       "      <td>3-Year Graduation Rate at 2-Year Institutions ...</td>\n",
       "      <td>6-Year Graduation Rate at 4-Year Institutions ...</td>\n",
       "      <td>Population Living Within 30 Minutes of 100,000...</td>\n",
       "      <td>Population With Commutes Less Than 30 Minutes</td>\n",
       "      <td>Energy Related Carbon Dioxide Emissions Per Ca...</td>\n",
       "      <td>Electricity Produced From Non-Carbon Sources</td>\n",
       "      <td>Percent of Cost-Burdened Households</td>\n",
       "      <td>Annual Change in Median Apartment Rent (Overall)</td>\n",
       "    </tr>\n",
       "  </tbody>\n",
       "</table>\n",
       "</div>"
      ],
      "text/plain": [
       "                   0                  1                                6   \\\n",
       "3  Dashboard Category            Economy                          Economy   \n",
       "4     Indicator Title  Yearly Job Growth  Employment Gap (White-Of Color)   \n",
       "\n",
       "                                 11  \\\n",
       "3                 Business Vitality   \n",
       "4  New Establishments (State Level)   \n",
       "\n",
       "                                               16  \\\n",
       "3                               Business Vitality   \n",
       "4  Establishments Surviving 5 Years (State Level)   \n",
       "\n",
       "                                 21                                26  \\\n",
       "3                            Talent                            Talent   \n",
       "4  Net Migration Of 25-34 Year Olds  Females Aged 16-64 Years Working   \n",
       "\n",
       "                                                31  \\\n",
       "3                                           Talent   \n",
       "4  Population 25+ with Bachelor's Degree or Higher   \n",
       "\n",
       "                                                  36  \\\n",
       "3                                          Education   \n",
       "4  3-Year Graduation Rate at 2-Year Institutions ...   \n",
       "\n",
       "                                                  41  \\\n",
       "3                                          Education   \n",
       "4  6-Year Graduation Rate at 4-Year Institutions ...   \n",
       "\n",
       "                                                  46  \\\n",
       "3                                     Infrastructure   \n",
       "4  Population Living Within 30 Minutes of 100,000...   \n",
       "\n",
       "                                              51  \\\n",
       "3                                 Infrastructure   \n",
       "4  Population With Commutes Less Than 30 Minutes   \n",
       "\n",
       "                                                  56  \\\n",
       "3                                        Environment   \n",
       "4  Energy Related Carbon Dioxide Emissions Per Ca...   \n",
       "\n",
       "                                             61  \\\n",
       "3                                   Environment   \n",
       "4  Electricity Produced From Non-Carbon Sources   \n",
       "\n",
       "                                    66  \\\n",
       "3                           Livability   \n",
       "4  Percent of Cost-Burdened Households   \n",
       "\n",
       "                                                 71  \n",
       "3                                        Livability  \n",
       "4  Annual Change in Median Apartment Rent (Overall)  "
      ]
     },
     "execution_count": 6,
     "metadata": {},
     "output_type": "execute_result"
    }
   ],
   "source": [
    "kpis = dfs['Key Indicators'].loc[[3,4]].dropna(axis='columns')\n",
    "kpis"
   ]
  },
  {
   "cell_type": "markdown",
   "metadata": {
    "slideshow": {
     "slide_type": "notes"
    }
   },
   "source": [
    "### Create a dictionary for Key Performance Indicators\n",
    "Capture the Dashboard Category and Indicator Title of each indicator. We'll use this later to set a value indicating whether or not an indicator is a KPI."
   ]
  },
  {
   "cell_type": "code",
   "execution_count": 7,
   "metadata": {
    "slideshow": {
     "slide_type": "skip"
    }
   },
   "outputs": [
    {
     "data": {
      "text/plain": [
       "{'Economy': ['Yearly Job Growth', 'Employment Gap (White-Of Color)'],\n",
       " 'Business Vitality': ['New Establishments (State Level)',\n",
       "  'Establishments Surviving 5 Years (State Level)'],\n",
       " 'Talent': ['Net Migration Of 25-34 Year Olds',\n",
       "  'Females Aged 16-64 Years Working',\n",
       "  \"Population 25+ with Bachelor's Degree or Higher\"],\n",
       " 'Education': ['3-Year Graduation Rate at 2-Year Institutions (State-Level)',\n",
       "  '6-Year Graduation Rate at 4-Year Institutions (State Level)'],\n",
       " 'Infrastructure': ['Population Living Within 30 Minutes of 100,000 Jobs By Transit or Walking',\n",
       "  'Population With Commutes Less Than 30 Minutes'],\n",
       " 'Environment': ['Energy Related Carbon Dioxide Emissions Per Capita (State Level)',\n",
       "  'Electricity Produced From Non-Carbon Sources'],\n",
       " 'Livability': ['Percent of Cost-Burdened Households',\n",
       "  'Annual Change in Median Apartment Rent (Overall)']}"
      ]
     },
     "execution_count": 7,
     "metadata": {},
     "output_type": "execute_result"
    }
   ],
   "source": [
    "kpi_dict = {}\n",
    "for col in kpis.columns:\n",
    "    if col == 0:\n",
    "        continue\n",
    "    category = kpis[col].iloc[0]\n",
    "    indicator = kpis[col].iloc[1]\n",
    "    if category in kpi_dict:\n",
    "        kpi_dict[category].append(indicator)\n",
    "    else:\n",
    "        kpi_dict[category] = [indicator]\n",
    "\n",
    "kpi_dict"
   ]
  },
  {
   "cell_type": "markdown",
   "metadata": {
    "slideshow": {
     "slide_type": "slide"
    }
   },
   "source": [
    "## For the remaining sheets: capture the data."
   ]
  },
  {
   "cell_type": "markdown",
   "metadata": {
    "slideshow": {
     "slide_type": "fragment"
    }
   },
   "source": [
    "### Value in first row/first column is the sheet name/category (ex: \"Economy\")"
   ]
  },
  {
   "cell_type": "markdown",
   "metadata": {
    "slideshow": {
     "slide_type": "notes"
    }
   },
   "source": [
    "### First two rows are headers:\n",
    "1. Indicator (ex: Gross Regional Product Growth). This is only populated when it changes, null otherwise.\n",
    "2. \"ESTIMATES\". This row contains the year for each Indicator's data, mostly represented as '4-digit year\\n(year of data)'. This variable was preserved as-is, to serve as a description field, and was cleaned up so that only the 4-digit year was preserved."
   ]
  },
  {
   "cell_type": "markdown",
   "metadata": {
    "slideshow": {
     "slide_type": "fragment"
    }
   },
   "source": [
    "### First two rows give us the indicator and a year."
   ]
  },
  {
   "cell_type": "markdown",
   "metadata": {
    "slideshow": {
     "slide_type": "fragment"
    }
   },
   "source": [
    "### Cities show up twice on each sheet--first time with the observation, second time with the rank."
   ]
  },
  {
   "cell_type": "markdown",
   "metadata": {
    "slideshow": {
     "slide_type": "notes"
    }
   },
   "source": [
    "A \"RANK\" row separates the two sections of the sheet. This row indicates whether the ranking is \"highest to lowest\", or \"lowest to highest\". This information was captured as well as the rank and value, though it was ultimately not used."
   ]
  },
  {
   "cell_type": "markdown",
   "metadata": {
    "slideshow": {
     "slide_type": "notes"
    }
   },
   "source": [
    "## Functions"
   ]
  },
  {
   "cell_type": "markdown",
   "metadata": {
    "slideshow": {
     "slide_type": "slide"
    }
   },
   "source": [
    "### Cleanup, and creation of some calculated fields:"
   ]
  },
  {
   "cell_type": "markdown",
   "metadata": {
    "slideshow": {
     "slide_type": "fragment"
    }
   },
   "source": [
    "### The year field often has an appended text string, indicating the actual date ranges involved.\n",
    "\n",
    "Preserve the existing Year to use as a descriptor, and create a new Year variable that is just the 4-digit year."
   ]
  },
  {
   "cell_type": "code",
   "execution_count": 8,
   "metadata": {
    "slideshow": {
     "slide_type": "skip"
    }
   },
   "outputs": [],
   "source": [
    "def cleanup_year(string,**kwargs):\n",
    "    desc_or_year = kwargs.get('desc_or_year','year')\n",
    "    if desc_or_year == 'year':\n",
    "        try:\n",
    "            return int(float(string.split()[0]))\n",
    "# split() will fail when the value is a lone year (ex: 2015 vs. \"2015\\n(using 13-14 data)\")\n",
    "# because the lone year is interpreted as an int. \n",
    "# Rather than convert that to a string, just return it.\n",
    "        except:\n",
    "# string may be empty/null! You can convert that null to a float.\n",
    "# However, you CANNOT convert that null float to an int!\n",
    "            str_as_float = float(string)\n",
    "            if np.isnan(str_as_float):\n",
    "                return string\n",
    "            else:\n",
    "                return int(str_as_float)\n",
    "    else:\n",
    "        return \" \".join(str(string).split())"
   ]
  },
  {
   "cell_type": "markdown",
   "metadata": {
    "slideshow": {
     "slide_type": "fragment"
    }
   },
   "source": [
    "### Create a Key Indicator variable, and set it to 1 for key indicators."
   ]
  },
  {
   "cell_type": "code",
   "execution_count": 9,
   "metadata": {
    "slideshow": {
     "slide_type": "skip"
    }
   },
   "outputs": [],
   "source": [
    "def set_key_indc(category,indicator,**kwargs):\n",
    "    my_kpi_dict = kwargs.get('kpi_dict',kpi_dict)\n",
    "    if category in my_kpi_dict:\n",
    "        if indicator in kpi_dict[category]:\n",
    "            return 1\n",
    "    return 0  "
   ]
  },
  {
   "cell_type": "markdown",
   "metadata": {
    "slideshow": {
     "slide_type": "notes"
    }
   },
   "source": [
    "### Replicate the Alteryx logic for deciding Data Type:\n",
    "\n",
    "This was the code used in Alteryx to calculate Data Type. Its logic is fairly elegant, so we replicated it in the Python version.\n",
    "\n",
    "```\n",
    "if abs([Measure Value]) <=1 then 'Percent'\n",
    "elseif Contains([Indicator Title], 'Cost') then 'Dollar'\n",
    "elseif Contains([Indicator Title], 'Wage') then 'Dollar'\n",
    "elseif Contains([Indicator Title], 'Income') then 'Dollar'\n",
    "elseif Contains([Indicator Title], 'Price') then 'Dollar'\n",
    "elseif [Dashboard Category] = 'Business Vitality' \n",
    "\tAND !(Contains([Indicator Title], 'Patent')\n",
    "\tor Contains([Indicator Title], 'Establishment'))\n",
    "\tthen 'Dollar'\n",
    "else 'Numeric'\n",
    "endif \n",
    "```"
   ]
  },
  {
   "cell_type": "code",
   "execution_count": 10,
   "metadata": {
    "slideshow": {
     "slide_type": "skip"
    }
   },
   "outputs": [],
   "source": [
    "# This is where we implement Dave's logic from Alteryx.\n",
    "def calculate_data_type(series):\n",
    "    if series['Value'] <=1:\n",
    "        return 'Percent'\n",
    "    elif any(x in series['Indicator'].lower() for x in ['cost','wage','income','price']):\n",
    "        return 'Dollar'\n",
    "    elif (series['Category'] == 'Business Vitality') \\\n",
    "         and not any(x in series['Indicator'].lower() for x in ['patent','establishment']):\n",
    "        return 'Dollar'\n",
    "    else:\n",
    "        return \"Numeric\""
   ]
  },
  {
   "cell_type": "markdown",
   "metadata": {
    "slideshow": {
     "slide_type": "fragment"
    }
   },
   "source": [
    "### Figure out the data type for each indicator.\n",
    "\n",
    "A calculated variable, Data Type, was created to help us format the value for each indicator. We came up with three types:\n",
    "* Percent\n",
    "* Dollar\n",
    "* Numeric"
   ]
  },
  {
   "cell_type": "markdown",
   "metadata": {
    "slideshow": {
     "slide_type": "notes"
    }
   },
   "source": [
    "* Build a small dataframe of unique combos of Category + Indicator, and the max Value for each combo. (I checked--max() ignores NaNs.)\n",
    "* Convert that dataframe into a dictionary containing Indicator/Data Type pairs."
   ]
  },
  {
   "cell_type": "code",
   "execution_count": 11,
   "metadata": {
    "slideshow": {
     "slide_type": "skip"
    }
   },
   "outputs": [],
   "source": [
    "def build_data_type_df(df):\n",
    "    this_category = df['Category'].unique()[0]\n",
    "    df_cat = df.loc[df['Category'] == this_category]\n",
    "# There is something funky about these two sheets--the .groupby() doesn't behave the same way.\n",
    "# I found that if I drop category, it works better.\n",
    "    if this_category in ['Environment','Livability']:\n",
    "        max_df = pd.DataFrame()\n",
    "        for this_indicator in df_cat['Indicator'].unique():\n",
    "            indicator_data_df = df_cat.loc[df['Indicator'] == this_indicator,['Indicator','Value']]\n",
    "            append_df = indicator_data_df.loc[:,['Indicator','Value']].groupby(['Indicator']).max().reset_index()\n",
    "            max_df = max_df.append(append_df,ignore_index=True)\n",
    "# Add back the dropped Category column, so calculate_data_type() works.\n",
    "        max_df['Category'] = [this_category] * max_df.shape[0]\n",
    "    else:\n",
    "        max_df = df.loc[:,['Category','Indicator','Value']].groupby(['Category','Indicator']).max().reset_index()\n",
    "    max_df['Value'] = max_df['Value'].apply(lambda x: abs(x))\n",
    "    max_df['Data_Type'] = max_df.apply(lambda row: calculate_data_type(row),axis='columns')\n",
    "\n",
    "# Prep the dataframe so it can be easily transformed into a dictionary\n",
    "    max_df.drop(columns=['Category','Value'],inplace=True)\n",
    "\n",
    "    data_type_df = max_df.set_index(['Indicator']).to_dict('index')\n",
    "# I couldn't find a parameter for .to_dict() that gave me exactly what I wanted--\n",
    "# namely, a dict where key is Indicator, value is Data Type.\n",
    "# So build a new dict that has this format, and extract what we need from data_type_df.\n",
    "    return_dict = {}\n",
    "    for this_key in data_type_df:\n",
    "        return_dict[this_key] = data_type_df[this_key]['Data_Type']\n",
    "    return return_dict"
   ]
  },
  {
   "cell_type": "markdown",
   "metadata": {
    "slideshow": {
     "slide_type": "slide"
    }
   },
   "source": [
    "### Clean up Values.\n",
    "\n",
    "Null values are okay. We'd prefer to work with numeric data for the rest--no strings, please."
   ]
  },
  {
   "cell_type": "code",
   "execution_count": 12,
   "metadata": {
    "slideshow": {
     "slide_type": "skip"
    }
   },
   "outputs": [],
   "source": [
    "def cleanup_values(x):\n",
    "    if str(x) == 'no data':\n",
    "        return np.nan\n",
    "    elif math.isnan(x):\n",
    "        return np.nan\n",
    "    else:\n",
    "        return float(x)"
   ]
  },
  {
   "cell_type": "markdown",
   "metadata": {
    "slideshow": {
     "slide_type": "slide"
    }
   },
   "source": [
    "### Create a formatted value, based on data type\n",
    "\n",
    "This calculated Formatted Value spared us from having to figure out how to display each individual indicator in Tableau.\n",
    "* Dollar:\n",
    "     * leading \\$ sign\n",
    "     * commas between thousands\n",
    "     * padding to 2 decimal places if underlying data contains decimal\n",
    "\n",
    "* Numeric:\n",
    "    * commas between thousands\n",
    "    * padding to 2 decimal places if underlying data contains decimal\n",
    "\n",
    "* Percent:\n",
    "    * padding to 2 decimal places\n",
    "    * trailing % sign\n",
    "\n",
    "* KEEP negative (-) signs "
   ]
  },
  {
   "cell_type": "code",
   "execution_count": 13,
   "metadata": {
    "slideshow": {
     "slide_type": "skip"
    }
   },
   "outputs": [],
   "source": [
    "def calculate_formatted_value(series):\n",
    "# Capture nulls and empty strings straight away and return those values with no formatting.\n",
    "    if pd.isnull(series['Value']) or series['Value'] == '':\n",
    "        return series['Value']\n",
    "    elif series['Data_Type'] == 'Percent':\n",
    "        try:\n",
    "            return \"{:.2%}\".format(series['Value'])\n",
    "        except:\n",
    "            print(\"This is supposed to be a Percent, but it's not:\",series['Value'])\n",
    "            return series['Value']\n",
    "\n",
    "    elif series['Data_Type'] == 'Dollar':\n",
    "        try:\n",
    "            if str(abs(series['Value'])).isdigit():\n",
    "                return \"${:,}\".format(series['Value'])\n",
    "            else:\n",
    "                return \"${:,.2f}\".format(series['Value'])\n",
    "        except:\n",
    "            print(\"This is supposed to be Dollar value, but it's not:\",series['Value'])\n",
    "            return series['Value']\n",
    "\n",
    "    elif series['Data_Type'] == 'Numeric':\n",
    "        try:\n",
    "            if str(abs(series['Value'])).isdigit():\n",
    "                return \"{:,}\".format(series['Value'])\n",
    "            else:\n",
    "                return \"{:,.2f}\".format(series['Value'])\n",
    "        except:\n",
    "            print(\"This is supposed to be Numeric, but it's not:\",series['Value'])\n",
    "            return series['Value']\n",
    "    else:\n",
    "# Thankfully didn't see any instances of an unknown Data Type, but we'll need a catch-all.\n",
    "        print(\"UNKNOWN value type\", series)\n",
    "    return series['Value']"
   ]
  },
  {
   "cell_type": "markdown",
   "metadata": {
    "slideshow": {
     "slide_type": "notes"
    }
   },
   "source": [
    "### Reshape a sheet of the workbook.\n",
    "\n",
    "This is where the magic happens. Most of the other functions above are called from this one."
   ]
  },
  {
   "cell_type": "code",
   "execution_count": 14,
   "metadata": {
    "slideshow": {
     "slide_type": "skip"
    }
   },
   "outputs": [],
   "source": [
    "def reshape_indicator_sheet(df):\n",
    "    out_df_columns = ['Category','Indicator','Metro','Year_Desc','Year',\n",
    "                      'Value','Formatted_Value','Rank','Rank_Order','Key_Indicator','Data_Type']\n",
    "    out_df = pd.DataFrame(columns=out_df_columns)\n",
    "\n",
    "# Capture the index of the RANK row.\n",
    "# This will help us split the sheet into its values vs. rank halves.\n",
    "    rank_index = np.where(df[0] == 'RANK')[0][0]\n",
    "    indicators_sheet = df.iloc[0:rank_index].copy()\n",
    "    rank_sheet = df.iloc[rank_index:].copy()\n",
    "\n",
    "# Loop through each city, snag its values and rank info, drop them into the correct columns\n",
    "    for metro in indicators_sheet[0][3:]:\n",
    "        city_df = pd.DataFrame(columns=out_df_columns)\n",
    "        city_category = indicators_sheet.loc[[0]].values[0][0].strip()\n",
    "\n",
    "# This will fill 'Category' with nulls, but it gives the dataframe the correct length.\n",
    "# Then, fill it with the actual category name.\n",
    "        city_df['Category'] = indicators_sheet.loc[[0]].values[0][1:]\n",
    "        city_df['Category'].fillna(value=city_category,inplace=True)\n",
    "\n",
    "# Indicator has some values populated, so we can use 'pad' to copy them forward to null rows.\n",
    "        city_df['Indicator'] = indicators_sheet.loc[[1]].values[0][1:]\n",
    "        city_df['Indicator'].fillna(method='pad',inplace=True)\n",
    "        city_df['Indicator'] = city_df['Indicator'].apply(lambda x: x.strip())\n",
    "        \n",
    "# If we find Indicator in the KPI dictionary under this Category, this is a Key Indicator\n",
    "        city_df['Key_Indicator'] = city_df.apply(lambda row: set_key_indc(row['Category'],row['Indicator']),\n",
    "                                                 axis='columns')\n",
    "\n",
    "        city_df['Year_Desc'] = indicators_sheet.iloc[2].values[1:]\n",
    "        city_df['Year_Desc'] = city_df['Year_Desc'].apply(lambda x: cleanup_year(x,desc_or_year='desc'))\n",
    "        city_df['Year'] = city_df['Year_Desc'].apply(lambda x: cleanup_year(x))\n",
    "\n",
    "        indc_metro_value = np.where(indicators_sheet[0] == metro)[0][0]\n",
    "        city_df['Metro'] = [metro] * city_df.shape[0]\n",
    "        city_values = indicators_sheet.iloc[indc_metro_value].values[1:]\n",
    "        city_df['Value'] = ([cleanup_values(x) for x in city_values])\n",
    "\n",
    "# Find the index for our current Metro in the rank half of the sheet, and get Rank-related values.\n",
    "        rank_metro_value = np.where(rank_sheet[0] == metro)[0][0]\n",
    "        city_df['Rank'] = rank_sheet.iloc[rank_metro_value].values[1:]\n",
    "        city_df['Rank_Order'] = rank_sheet.iloc[[0]].values[0][1:]\n",
    "        city_df['Rank_Order'].fillna(method='pad',inplace=True)\n",
    "\n",
    "# Some sheets have null columns at the end, recognizable in our dataframe because Year is null.\n",
    "# It's safe to drop these rows.\n",
    "        city_df = city_df.loc[(city_df['Year'].astype('float') > 0)]\n",
    "\n",
    "# We're done with this city. Append its stats to the big spreadsheet.\n",
    "        out_df = out_df.append(city_df,ignore_index=True)\n",
    "\n",
    "    data_type_dict = build_data_type_df(out_df)\n",
    "    out_df.loc[:,'Data_Type'] = out_df['Indicator'].apply(lambda x: data_type_dict[x])\n",
    "    out_df.loc[:,'Formatted_Value'] = out_df.apply(lambda row: calculate_formatted_value(row),axis='columns')\n",
    "    return out_df"
   ]
  },
  {
   "cell_type": "markdown",
   "metadata": {
    "slideshow": {
     "slide_type": "slide"
    }
   },
   "source": [
    "## Restructure the data for each sheet. Concatenate the restructured output from all of the sheets (minus the Key Indicator sheet).\n",
    "\n",
    "### Each row of the data should have the following columns:\n",
    "1. Category\n",
    "2. Indicator\n",
    "3. Metro area\n",
    "4. Year description (as taken from sheet)\n",
    "5. Year (integer value only)\n",
    "6. Value\n",
    "7. Formatted Value (based on Data Type)\n",
    "8. Rank\n",
    "9. Rank Order\n",
    "10. Key Indicator\n",
    "11. Data Type"
   ]
  },
  {
   "cell_type": "code",
   "execution_count": 15,
   "metadata": {
    "slideshow": {
     "slide_type": "skip"
    }
   },
   "outputs": [],
   "source": [
    "output_df = pd.DataFrame()\n",
    "for sheet_key in dfs.keys():\n",
    "    if sheet_key == 'Key Indicators':\n",
    "        continue\n",
    "    output_df = output_df.append(reshape_indicator_sheet(dfs[sheet_key]),ignore_index=True)"
   ]
  },
  {
   "cell_type": "markdown",
   "metadata": {
    "slideshow": {
     "slide_type": "notes"
    }
   },
   "source": [
    "## Exploring/validating the data"
   ]
  },
  {
   "cell_type": "code",
   "execution_count": 16,
   "metadata": {
    "scrolled": false,
    "slideshow": {
     "slide_type": "skip"
    }
   },
   "outputs": [
    {
     "data": {
      "text/html": [
       "<div>\n",
       "<style scoped>\n",
       "    .dataframe tbody tr th:only-of-type {\n",
       "        vertical-align: middle;\n",
       "    }\n",
       "\n",
       "    .dataframe tbody tr th {\n",
       "        vertical-align: top;\n",
       "    }\n",
       "\n",
       "    .dataframe thead th {\n",
       "        text-align: right;\n",
       "    }\n",
       "</style>\n",
       "<table border=\"1\" class=\"dataframe\">\n",
       "  <thead>\n",
       "    <tr style=\"text-align: right;\">\n",
       "      <th></th>\n",
       "      <th>Category</th>\n",
       "      <th>Indicator</th>\n",
       "      <th>Metro</th>\n",
       "      <th>Year_Desc</th>\n",
       "      <th>Year</th>\n",
       "      <th>Value</th>\n",
       "      <th>Formatted_Value</th>\n",
       "      <th>Rank</th>\n",
       "      <th>Rank_Order</th>\n",
       "      <th>Key_Indicator</th>\n",
       "      <th>Data_Type</th>\n",
       "    </tr>\n",
       "  </thead>\n",
       "  <tbody>\n",
       "    <tr>\n",
       "      <th>count</th>\n",
       "      <td>3624</td>\n",
       "      <td>3624</td>\n",
       "      <td>3624</td>\n",
       "      <td>3624</td>\n",
       "      <td>3624.0</td>\n",
       "      <td>2.936000e+03</td>\n",
       "      <td>2936</td>\n",
       "      <td>2898.0</td>\n",
       "      <td>3204</td>\n",
       "      <td>3624.0</td>\n",
       "      <td>3624</td>\n",
       "    </tr>\n",
       "    <tr>\n",
       "      <th>unique</th>\n",
       "      <td>8</td>\n",
       "      <td>60</td>\n",
       "      <td>12</td>\n",
       "      <td>45</td>\n",
       "      <td>6.0</td>\n",
       "      <td>NaN</td>\n",
       "      <td>2012</td>\n",
       "      <td>12.0</td>\n",
       "      <td>3</td>\n",
       "      <td>2.0</td>\n",
       "      <td>3</td>\n",
       "    </tr>\n",
       "    <tr>\n",
       "      <th>top</th>\n",
       "      <td>Vital Stats</td>\n",
       "      <td>Unemployment Rate Annualized</td>\n",
       "      <td>Atlanta-Sandy Springs-Roswell, GA Metro Area</td>\n",
       "      <td>2018 (2016 data)</td>\n",
       "      <td>2019.0</td>\n",
       "      <td>NaN</td>\n",
       "      <td>0.00%</td>\n",
       "      <td>1.0</td>\n",
       "      <td>(highest to lowest)</td>\n",
       "      <td>0.0</td>\n",
       "      <td>Percent</td>\n",
       "    </tr>\n",
       "    <tr>\n",
       "      <th>freq</th>\n",
       "      <td>804</td>\n",
       "      <td>72</td>\n",
       "      <td>302</td>\n",
       "      <td>288</td>\n",
       "      <td>720.0</td>\n",
       "      <td>NaN</td>\n",
       "      <td>21</td>\n",
       "      <td>261.0</td>\n",
       "      <td>2052</td>\n",
       "      <td>2724.0</td>\n",
       "      <td>2412</td>\n",
       "    </tr>\n",
       "    <tr>\n",
       "      <th>mean</th>\n",
       "      <td>NaN</td>\n",
       "      <td>NaN</td>\n",
       "      <td>NaN</td>\n",
       "      <td>NaN</td>\n",
       "      <td>NaN</td>\n",
       "      <td>5.835245e+08</td>\n",
       "      <td>NaN</td>\n",
       "      <td>NaN</td>\n",
       "      <td>NaN</td>\n",
       "      <td>NaN</td>\n",
       "      <td>NaN</td>\n",
       "    </tr>\n",
       "    <tr>\n",
       "      <th>std</th>\n",
       "      <td>NaN</td>\n",
       "      <td>NaN</td>\n",
       "      <td>NaN</td>\n",
       "      <td>NaN</td>\n",
       "      <td>NaN</td>\n",
       "      <td>4.398316e+09</td>\n",
       "      <td>NaN</td>\n",
       "      <td>NaN</td>\n",
       "      <td>NaN</td>\n",
       "      <td>NaN</td>\n",
       "      <td>NaN</td>\n",
       "    </tr>\n",
       "    <tr>\n",
       "      <th>min</th>\n",
       "      <td>NaN</td>\n",
       "      <td>NaN</td>\n",
       "      <td>NaN</td>\n",
       "      <td>NaN</td>\n",
       "      <td>NaN</td>\n",
       "      <td>-2.303600e+04</td>\n",
       "      <td>NaN</td>\n",
       "      <td>NaN</td>\n",
       "      <td>NaN</td>\n",
       "      <td>NaN</td>\n",
       "      <td>NaN</td>\n",
       "    </tr>\n",
       "    <tr>\n",
       "      <th>25%</th>\n",
       "      <td>NaN</td>\n",
       "      <td>NaN</td>\n",
       "      <td>NaN</td>\n",
       "      <td>NaN</td>\n",
       "      <td>NaN</td>\n",
       "      <td>1.320000e-01</td>\n",
       "      <td>NaN</td>\n",
       "      <td>NaN</td>\n",
       "      <td>NaN</td>\n",
       "      <td>NaN</td>\n",
       "      <td>NaN</td>\n",
       "    </tr>\n",
       "    <tr>\n",
       "      <th>50%</th>\n",
       "      <td>NaN</td>\n",
       "      <td>NaN</td>\n",
       "      <td>NaN</td>\n",
       "      <td>NaN</td>\n",
       "      <td>NaN</td>\n",
       "      <td>6.305000e-01</td>\n",
       "      <td>NaN</td>\n",
       "      <td>NaN</td>\n",
       "      <td>NaN</td>\n",
       "      <td>NaN</td>\n",
       "      <td>NaN</td>\n",
       "    </tr>\n",
       "    <tr>\n",
       "      <th>75%</th>\n",
       "      <td>NaN</td>\n",
       "      <td>NaN</td>\n",
       "      <td>NaN</td>\n",
       "      <td>NaN</td>\n",
       "      <td>NaN</td>\n",
       "      <td>2.794000e+02</td>\n",
       "      <td>NaN</td>\n",
       "      <td>NaN</td>\n",
       "      <td>NaN</td>\n",
       "      <td>NaN</td>\n",
       "      <td>NaN</td>\n",
       "    </tr>\n",
       "    <tr>\n",
       "      <th>max</th>\n",
       "      <td>NaN</td>\n",
       "      <td>NaN</td>\n",
       "      <td>NaN</td>\n",
       "      <td>NaN</td>\n",
       "      <td>NaN</td>\n",
       "      <td>6.915400e+10</td>\n",
       "      <td>NaN</td>\n",
       "      <td>NaN</td>\n",
       "      <td>NaN</td>\n",
       "      <td>NaN</td>\n",
       "      <td>NaN</td>\n",
       "    </tr>\n",
       "  </tbody>\n",
       "</table>\n",
       "</div>"
      ],
      "text/plain": [
       "           Category                     Indicator  \\\n",
       "count          3624                          3624   \n",
       "unique            8                            60   \n",
       "top     Vital Stats  Unemployment Rate Annualized   \n",
       "freq            804                            72   \n",
       "mean            NaN                           NaN   \n",
       "std             NaN                           NaN   \n",
       "min             NaN                           NaN   \n",
       "25%             NaN                           NaN   \n",
       "50%             NaN                           NaN   \n",
       "75%             NaN                           NaN   \n",
       "max             NaN                           NaN   \n",
       "\n",
       "                                               Metro         Year_Desc  \\\n",
       "count                                           3624              3624   \n",
       "unique                                            12                45   \n",
       "top     Atlanta-Sandy Springs-Roswell, GA Metro Area  2018 (2016 data)   \n",
       "freq                                             302               288   \n",
       "mean                                             NaN               NaN   \n",
       "std                                              NaN               NaN   \n",
       "min                                              NaN               NaN   \n",
       "25%                                              NaN               NaN   \n",
       "50%                                              NaN               NaN   \n",
       "75%                                              NaN               NaN   \n",
       "max                                              NaN               NaN   \n",
       "\n",
       "          Year         Value Formatted_Value    Rank           Rank_Order  \\\n",
       "count   3624.0  2.936000e+03            2936  2898.0                 3204   \n",
       "unique     6.0           NaN            2012    12.0                    3   \n",
       "top     2019.0           NaN           0.00%     1.0  (highest to lowest)   \n",
       "freq     720.0           NaN              21   261.0                 2052   \n",
       "mean       NaN  5.835245e+08             NaN     NaN                  NaN   \n",
       "std        NaN  4.398316e+09             NaN     NaN                  NaN   \n",
       "min        NaN -2.303600e+04             NaN     NaN                  NaN   \n",
       "25%        NaN  1.320000e-01             NaN     NaN                  NaN   \n",
       "50%        NaN  6.305000e-01             NaN     NaN                  NaN   \n",
       "75%        NaN  2.794000e+02             NaN     NaN                  NaN   \n",
       "max        NaN  6.915400e+10             NaN     NaN                  NaN   \n",
       "\n",
       "        Key_Indicator Data_Type  \n",
       "count          3624.0      3624  \n",
       "unique            2.0         3  \n",
       "top               0.0   Percent  \n",
       "freq           2724.0      2412  \n",
       "mean              NaN       NaN  \n",
       "std               NaN       NaN  \n",
       "min               NaN       NaN  \n",
       "25%               NaN       NaN  \n",
       "50%               NaN       NaN  \n",
       "75%               NaN       NaN  \n",
       "max               NaN       NaN  "
      ]
     },
     "execution_count": 16,
     "metadata": {},
     "output_type": "execute_result"
    }
   ],
   "source": [
    "output_df.describe(include='all')"
   ]
  },
  {
   "cell_type": "markdown",
   "metadata": {
    "slideshow": {
     "slide_type": "notes"
    }
   },
   "source": [
    "### Some things to note about the output from .describe() above\n",
    "\n",
    "* \"count\" doesn't include null values, so the columns will have differing counts (the counts for Value/Formatted Value/Rank/Rank Order are lower than the others). Rows with null Values were not dropped.\n",
    "\n",
    "* All columns besides Value are treated as strings, so only the Value column has stats like mean, standard deviation, min/max, etc. We can't gather much from the stats of the combined values across categories and indicators. It might be interesting to go back and find out what these stats look like for particular indicators within each category.\n",
    "\n",
    "* Unique counts helped me determine whether the conversion I performed above was done correctly. 8 Categories, 12 Metros, 6 Years, 12 Ranks, etc. Looks good at a glance. We will dig into some of these variables below."
   ]
  },
  {
   "cell_type": "markdown",
   "metadata": {
    "slideshow": {
     "slide_type": "notes"
    }
   },
   "source": [
    "### Category and Indicator\n",
    "\n",
    "How many rows do we have for each indicator?"
   ]
  },
  {
   "cell_type": "code",
   "execution_count": 17,
   "metadata": {
    "scrolled": true,
    "slideshow": {
     "slide_type": "skip"
    }
   },
   "outputs": [
    {
     "data": {
      "text/plain": [
       "Category           Indicator                                                                       \n",
       "Business Vitality  Annual Amount of Venture Capital                                                    60\n",
       "                   Establishments Surviving 5 Years (State Level)                                      60\n",
       "                   Loans to Businesses With Under $1M In Revenue (000s)                                60\n",
       "                   New Establishments (State Level)                                                    60\n",
       "                   Patents Issued Per 1,000 Workers                                                    60\n",
       "                   Value of Exports                                                                    60\n",
       "Economy            Average Weekly Wage                                                                 60\n",
       "                   Employment Gap (White-Of Color)                                                     60\n",
       "                   Gross Regional Product Growth                                                       60\n",
       "                   Jobs Paying a Family Sustaining Wage                                                60\n",
       "                   Wage Gap (White-Of Color)                                                           60\n",
       "                   Yearly Job Growth                                                                   60\n",
       "Education          3-Year Graduation Rate at 2-Year Institutions (State-Level)                         60\n",
       "                   3rd Grade Students Achieving Reading Standards - OF COLOR                           60\n",
       "                   3rd Grade Students Achieving Reading Standards - White                              60\n",
       "                   6-Year Graduation Rate at 4-Year Institutions (State Level)                         60\n",
       "                   8th Grade Students Achieving Math Standards - OF COLOR                              60\n",
       "                   8th Grade Students Achieving Math Standards - White                                 60\n",
       "                   High School Graduates Enrolling in Post-Secondary Education                         60\n",
       "                   High School Graduation Rate - OF COLOR                                              60\n",
       "                   High School Graduation Rate - White                                                 60\n",
       "Environment        Electricity Cost (Average Industrial) (Cents/kWh; Primary Metro Utility)            60\n",
       "                   Electricity Produced From Non-Carbon Sources                                        60\n",
       "                   Energy Related Carbon Dioxide Emissions Per Capita (State Level)                    60\n",
       "                   Number of Days That Air Quality Was \"Unhealthy For Sensitive Groups\" (Days/Year)    60\n",
       "                   Per Capita Water Usage (Gal/Day)                                                    60\n",
       "                   Population Within 10 Minute Walk To A Park (Urbanized Area)                         60\n",
       "Infrastructure     Annual Hours of Delay Per Commuter                                                  60\n",
       "                   Bridges Rated Poor (State Level)                                                    60\n",
       "                   Highway Miles Rated in Good Condition                                               60\n",
       "                   Number of Direct Routes Out of Home Airport                                         60\n",
       "                   Population Living Within 30 Minutes of 100,000 Jobs By Transit or Walking           60\n",
       "                   Population That Has Access To Advertised Broadband Speeds of 1GB or Higher          60\n",
       "                   Population With Commutes Less Than 30 Minutes                                       60\n",
       "Livability         Annual Change in Median Apartment Rent (2-BR Apartment)                             60\n",
       "                   Annual Change in Median Apartment Rent (Overall)                                    60\n",
       "                   Median Home Purchase Price                                                          60\n",
       "                   Number of Violent Crimes Committed Per 100k Residents                               60\n",
       "                   Percent of Cost-Burdened Households                                                 60\n",
       "                   Population 16+ Who Volunteered Past Year                                            60\n",
       "                   Population that is Obese                                                            60\n",
       "Talent             Females Aged 16-64 Years Working                                                    60\n",
       "                   Foreign-Born Population Aged 16-64 Years Working                                    60\n",
       "                   Net Migration Of 25-34 Year Olds                                                    60\n",
       "                   Population 25+ with Associate's Degree or Higher                                    60\n",
       "                   Population 25+ with Bachelor's Degree or Higher                                     60\n",
       "                   Population Employed in Advanced Industries                                          60\n",
       "Vital Stats        Gross Regional Product (Millions)                                                   60\n",
       "                   Gross Regional Product Per Capita                                                   60\n",
       "                   Labor Force Participation Rate                                                      60\n",
       "                   Median Household Income                                                             60\n",
       "                   Population                                                                          60\n",
       "                   Population Growth                                                                   60\n",
       "                   Population of Color                                                                 60\n",
       "                   Poverty Rate- Of Color                                                              60\n",
       "                   Poverty Rate- White                                                                 60\n",
       "                   Top Tier Tax Rates Corporate Income Tax                                             60\n",
       "                   Top Tier Tax Rates Personal Income Tax                                              60\n",
       "                   Total Jobs                                                                          72\n",
       "                   Unemployment Rate Annualized                                                        72\n",
       "Name: Indicator, dtype: int64"
      ]
     },
     "execution_count": 17,
     "metadata": {},
     "output_type": "execute_result"
    }
   ],
   "source": [
    "output_df.groupby(['Category','Indicator'])['Indicator'].count()"
   ]
  },
  {
   "cell_type": "markdown",
   "metadata": {
    "slideshow": {
     "slide_type": "notes"
    }
   },
   "source": [
    "Two Indicators have more than 60 values:\n",
    "* Vital Stats/Total Jobs\n",
    "* Vital Stats/Unemployment Rate Annualized\n",
    "\n",
    "These two Vital Stats indicators have an extra year of data, for 2014. So, no problem there!"
   ]
  },
  {
   "cell_type": "markdown",
   "metadata": {
    "slideshow": {
     "slide_type": "notes"
    }
   },
   "source": [
    "### Metro area"
   ]
  },
  {
   "cell_type": "code",
   "execution_count": 18,
   "metadata": {
    "slideshow": {
     "slide_type": "skip"
    }
   },
   "outputs": [
    {
     "data": {
      "text/plain": [
       "Atlanta-Sandy Springs-Roswell, GA Metro Area          302\n",
       "Charlotte-Concord-Gastonia, NC-SC Metro Area          302\n",
       "Minneapolis-St. Paul-Bloomington, MN-WI Metro Area    302\n",
       "Boston-Cambridge-Newton, MA-NH Metro Area             302\n",
       "Dallas-Fort Worth-Arlington, TX Metro Area            302\n",
       "Denver-Aurora-Lakewood, CO Metro Area                 302\n",
       "San Francisco-Oakland-Hayward, CA Metro Area          302\n",
       "Chicago-Naperville-Elgin, IL-IN-WI Metro Area         302\n",
       "Pittsburgh, PA Metro Area                             302\n",
       "Austin-Round Rock, TX Metro Area                      302\n",
       "Portland-Vancouver-Hillsboro, OR-WA Metro Area        302\n",
       "Seattle-Tacoma-Bellevue, WA Metro Area                302\n",
       "Name: Metro, dtype: int64"
      ]
     },
     "execution_count": 18,
     "metadata": {},
     "output_type": "execute_result"
    }
   ],
   "source": [
    "output_df['Metro'].value_counts()"
   ]
  },
  {
   "cell_type": "markdown",
   "metadata": {
    "slideshow": {
     "slide_type": "notes"
    }
   },
   "source": [
    "Our twelve metros show up the same number of times throughout. This is expected, since we didn't drop null values."
   ]
  },
  {
   "cell_type": "markdown",
   "metadata": {
    "slideshow": {
     "slide_type": "notes"
    }
   },
   "source": [
    "### Year/Year Description"
   ]
  },
  {
   "cell_type": "code",
   "execution_count": 19,
   "metadata": {
    "slideshow": {
     "slide_type": "skip"
    }
   },
   "outputs": [
    {
     "data": {
      "text/plain": [
       "2018 (2016 data)     288\n",
       "2019 (2017 data)     288\n",
       "2017 (2015 data)     276\n",
       "2016 (2014 data)     276\n",
       "2015 (2013 data)     252\n",
       "2019 (2018 data)     240\n",
       "2018 (2017 data)     240\n",
       "2017 (2016 data)     228\n",
       "2015 (2014 data)     204\n",
       "2016 (2015 data)     204\n",
       "2015                 132\n",
       "2016.0               108\n",
       "2017.0                84\n",
       "2017 (2015 Data)      48\n",
       "2018.0                48\n",
       "2018 (2016 Data)      48\n",
       "2016 (2014 Data)      48\n",
       "2015 (2013 Data)      48\n",
       "2019.0                48\n",
       "2019 (2017 Data)      48\n",
       "2017 (14-15 data)     36\n",
       "2019 (16-17 data)     36\n",
       "2015 (12-13 data)     36\n",
       "2018 (15-16 data)     36\n",
       "2016 (13-14 data)     36\n",
       "2017 (2014 data)      24\n",
       "2018 (2015 data)      24\n",
       "2016 (2013 data)      24\n",
       "2015 (2012 data)      24\n",
       "2019 (2016 data)      12\n",
       "2017 (2010 data)      12\n",
       "2019 (2013-2018)      12\n",
       "2014 (2013 data)      12\n",
       "2019 (2015 data)      12\n",
       "2016 (2010 data)      12\n",
       "2018 (2012-2017)      12\n",
       "2015 (2009-2014)      12\n",
       "2019 (no update)      12\n",
       "2016 (2010-2015)      12\n",
       "2014 (2012 data)      12\n",
       "2018 (no update)      12\n",
       "2017 (2011-2016)      12\n",
       "2019 (2019 data)      12\n",
       "2015 (2010 data)      12\n",
       "2018 (2018 data)      12\n",
       "Name: Year_Desc, dtype: int64"
      ]
     },
     "execution_count": 19,
     "metadata": {},
     "output_type": "execute_result"
    }
   ],
   "source": [
    "output_df['Year_Desc'].value_counts()"
   ]
  },
  {
   "cell_type": "markdown",
   "metadata": {
    "slideshow": {
     "slide_type": "notes"
    }
   },
   "source": [
    "Values for Year Description are all over the place (really wish those decimals weren't there), but as a description field, this is fine.\n",
    "\n",
    "The cleaned-up Year allows us to more easily identify the correct year to use when comparing metro areas:"
   ]
  },
  {
   "cell_type": "code",
   "execution_count": 20,
   "metadata": {
    "slideshow": {
     "slide_type": "skip"
    }
   },
   "outputs": [
    {
     "data": {
      "text/plain": [
       "2019    720\n",
       "2018    720\n",
       "2017    720\n",
       "2016    720\n",
       "2015    720\n",
       "2014     24\n",
       "Name: Year, dtype: int64"
      ]
     },
     "execution_count": 20,
     "metadata": {},
     "output_type": "execute_result"
    }
   ],
   "source": [
    "output_df['Year'].value_counts()"
   ]
  },
  {
   "cell_type": "markdown",
   "metadata": {
    "slideshow": {
     "slide_type": "notes"
    }
   },
   "source": [
    "### Data Type\n",
    "\n",
    "We're looking at this variable out of order, but let's talk about Data Type first, then Value and Formatted Value. It'll make more sense that way.\n",
    "\n",
    "Ideally the values in the workbook would have units of comparison associated with them up front, and we could use that information to more accurately display the data in the dashboard.\n",
    "\n",
    "Our approach--use the values to take an educated guess at values' types...with some hints. :) Our team originally calculated this field in Alteryx, then ported that logic to Python when we settled on Python for our data wrangling. It works pretty well!\n",
    "\n",
    "If new indicators are added to the dataset, and there's no effort to associate the units of comparison to them and to the existing indicators, this \"educated guess\" approach should be safe to use for them as well."
   ]
  },
  {
   "cell_type": "code",
   "execution_count": 21,
   "metadata": {
    "scrolled": false,
    "slideshow": {
     "slide_type": "skip"
    }
   },
   "outputs": [
    {
     "data": {
      "text/plain": [
       "Percent    2412\n",
       "Numeric     792\n",
       "Dollar      420\n",
       "Name: Data_Type, dtype: int64"
      ]
     },
     "execution_count": 21,
     "metadata": {},
     "output_type": "execute_result"
    }
   ],
   "source": [
    "output_df['Data_Type'].value_counts()"
   ]
  },
  {
   "cell_type": "markdown",
   "metadata": {
    "slideshow": {
     "slide_type": "notes"
    }
   },
   "source": [
    "### Value/Formatted Value"
   ]
  },
  {
   "cell_type": "markdown",
   "metadata": {
    "slideshow": {
     "slide_type": "notes"
    }
   },
   "source": [
    "Categorizing Value by Data Type in our validation helps us better understand whether our values make sense.\n",
    "\n",
    "For instance, valid percentages should be between -1 and 1.\n",
    "\n",
    "Values include tax rates as well as percentages of metro-area population."
   ]
  },
  {
   "cell_type": "code",
   "execution_count": 22,
   "metadata": {
    "slideshow": {
     "slide_type": "skip"
    }
   },
   "outputs": [
    {
     "data": {
      "text/html": [
       "<div>\n",
       "<style scoped>\n",
       "    .dataframe tbody tr th:only-of-type {\n",
       "        vertical-align: middle;\n",
       "    }\n",
       "\n",
       "    .dataframe tbody tr th {\n",
       "        vertical-align: top;\n",
       "    }\n",
       "\n",
       "    .dataframe thead th {\n",
       "        text-align: right;\n",
       "    }\n",
       "</style>\n",
       "<table border=\"1\" class=\"dataframe\">\n",
       "  <thead>\n",
       "    <tr style=\"text-align: right;\">\n",
       "      <th></th>\n",
       "      <th></th>\n",
       "    </tr>\n",
       "    <tr>\n",
       "      <th>Category</th>\n",
       "      <th>Indicator</th>\n",
       "    </tr>\n",
       "  </thead>\n",
       "  <tbody>\n",
       "    <tr>\n",
       "      <th>Business Vitality</th>\n",
       "      <th>Establishments Surviving 5 Years (State Level)</th>\n",
       "    </tr>\n",
       "    <tr>\n",
       "      <th rowspan=\"5\" valign=\"top\">Economy</th>\n",
       "      <th>Employment Gap (White-Of Color)</th>\n",
       "    </tr>\n",
       "    <tr>\n",
       "      <th>Gross Regional Product Growth</th>\n",
       "    </tr>\n",
       "    <tr>\n",
       "      <th>Jobs Paying a Family Sustaining Wage</th>\n",
       "    </tr>\n",
       "    <tr>\n",
       "      <th>Wage Gap (White-Of Color)</th>\n",
       "    </tr>\n",
       "    <tr>\n",
       "      <th>Yearly Job Growth</th>\n",
       "    </tr>\n",
       "    <tr>\n",
       "      <th rowspan=\"9\" valign=\"top\">Education</th>\n",
       "      <th>3-Year Graduation Rate at 2-Year Institutions (State-Level)</th>\n",
       "    </tr>\n",
       "    <tr>\n",
       "      <th>3rd Grade Students Achieving Reading Standards - OF COLOR</th>\n",
       "    </tr>\n",
       "    <tr>\n",
       "      <th>3rd Grade Students Achieving Reading Standards - White</th>\n",
       "    </tr>\n",
       "    <tr>\n",
       "      <th>6-Year Graduation Rate at 4-Year Institutions (State Level)</th>\n",
       "    </tr>\n",
       "    <tr>\n",
       "      <th>8th Grade Students Achieving Math Standards - OF COLOR</th>\n",
       "    </tr>\n",
       "    <tr>\n",
       "      <th>8th Grade Students Achieving Math Standards - White</th>\n",
       "    </tr>\n",
       "    <tr>\n",
       "      <th>High School Graduates Enrolling in Post-Secondary Education</th>\n",
       "    </tr>\n",
       "    <tr>\n",
       "      <th>High School Graduation Rate - OF COLOR</th>\n",
       "    </tr>\n",
       "    <tr>\n",
       "      <th>High School Graduation Rate - White</th>\n",
       "    </tr>\n",
       "    <tr>\n",
       "      <th rowspan=\"2\" valign=\"top\">Environment</th>\n",
       "      <th>Electricity Produced From Non-Carbon Sources</th>\n",
       "    </tr>\n",
       "    <tr>\n",
       "      <th>Population Within 10 Minute Walk To A Park (Urbanized Area)</th>\n",
       "    </tr>\n",
       "    <tr>\n",
       "      <th rowspan=\"5\" valign=\"top\">Infrastructure</th>\n",
       "      <th>Bridges Rated Poor (State Level)</th>\n",
       "    </tr>\n",
       "    <tr>\n",
       "      <th>Highway Miles Rated in Good Condition</th>\n",
       "    </tr>\n",
       "    <tr>\n",
       "      <th>Population Living Within 30 Minutes of 100,000 Jobs By Transit or Walking</th>\n",
       "    </tr>\n",
       "    <tr>\n",
       "      <th>Population That Has Access To Advertised Broadband Speeds of 1GB or Higher</th>\n",
       "    </tr>\n",
       "    <tr>\n",
       "      <th>Population With Commutes Less Than 30 Minutes</th>\n",
       "    </tr>\n",
       "    <tr>\n",
       "      <th rowspan=\"5\" valign=\"top\">Livability</th>\n",
       "      <th>Annual Change in Median Apartment Rent (2-BR Apartment)</th>\n",
       "    </tr>\n",
       "    <tr>\n",
       "      <th>Annual Change in Median Apartment Rent (Overall)</th>\n",
       "    </tr>\n",
       "    <tr>\n",
       "      <th>Percent of Cost-Burdened Households</th>\n",
       "    </tr>\n",
       "    <tr>\n",
       "      <th>Population 16+ Who Volunteered Past Year</th>\n",
       "    </tr>\n",
       "    <tr>\n",
       "      <th>Population that is Obese</th>\n",
       "    </tr>\n",
       "    <tr>\n",
       "      <th rowspan=\"5\" valign=\"top\">Talent</th>\n",
       "      <th>Females Aged 16-64 Years Working</th>\n",
       "    </tr>\n",
       "    <tr>\n",
       "      <th>Foreign-Born Population Aged 16-64 Years Working</th>\n",
       "    </tr>\n",
       "    <tr>\n",
       "      <th>Population 25+ with Associate's Degree or Higher</th>\n",
       "    </tr>\n",
       "    <tr>\n",
       "      <th>Population 25+ with Bachelor's Degree or Higher</th>\n",
       "    </tr>\n",
       "    <tr>\n",
       "      <th>Population Employed in Advanced Industries</th>\n",
       "    </tr>\n",
       "    <tr>\n",
       "      <th rowspan=\"8\" valign=\"top\">Vital Stats</th>\n",
       "      <th>Labor Force Participation Rate</th>\n",
       "    </tr>\n",
       "    <tr>\n",
       "      <th>Population Growth</th>\n",
       "    </tr>\n",
       "    <tr>\n",
       "      <th>Population of Color</th>\n",
       "    </tr>\n",
       "    <tr>\n",
       "      <th>Poverty Rate- Of Color</th>\n",
       "    </tr>\n",
       "    <tr>\n",
       "      <th>Poverty Rate- White</th>\n",
       "    </tr>\n",
       "    <tr>\n",
       "      <th>Top Tier Tax Rates Corporate Income Tax</th>\n",
       "    </tr>\n",
       "    <tr>\n",
       "      <th>Top Tier Tax Rates Personal Income Tax</th>\n",
       "    </tr>\n",
       "    <tr>\n",
       "      <th>Unemployment Rate Annualized</th>\n",
       "    </tr>\n",
       "  </tbody>\n",
       "</table>\n",
       "</div>"
      ],
      "text/plain": [
       "Empty DataFrame\n",
       "Columns: []\n",
       "Index: [(Business Vitality, Establishments Surviving 5 Years (State Level)), (Economy, Employment Gap (White-Of Color)), (Economy, Gross Regional Product Growth), (Economy, Jobs Paying a Family Sustaining Wage), (Economy, Wage Gap (White-Of Color)), (Economy, Yearly Job Growth), (Education, 3-Year Graduation Rate at 2-Year Institutions (State-Level)), (Education, 3rd Grade Students Achieving Reading Standards - OF COLOR), (Education, 3rd Grade Students Achieving Reading Standards - White), (Education, 6-Year Graduation Rate at 4-Year Institutions (State Level)), (Education, 8th Grade Students Achieving Math Standards - OF COLOR), (Education, 8th Grade Students Achieving Math Standards - White), (Education, High School Graduates Enrolling in Post-Secondary Education), (Education, High School Graduation Rate - OF COLOR), (Education, High School Graduation Rate - White), (Environment, Electricity Produced From Non-Carbon Sources), (Environment, Population Within 10 Minute Walk To A Park (Urbanized Area)), (Infrastructure, Bridges Rated Poor (State Level)), (Infrastructure, Highway Miles Rated in Good Condition), (Infrastructure, Population Living Within 30 Minutes of 100,000 Jobs By Transit or Walking), (Infrastructure, Population That Has Access To Advertised Broadband Speeds of 1GB or Higher), (Infrastructure, Population With Commutes Less Than 30 Minutes), (Livability, Annual Change in Median Apartment Rent (2-BR Apartment)), (Livability, Annual Change in Median Apartment Rent (Overall)), (Livability, Percent of Cost-Burdened Households), (Livability, Population 16+ Who Volunteered Past Year), (Livability, Population that is Obese), (Talent, Females Aged 16-64 Years Working), (Talent, Foreign-Born Population Aged 16-64 Years Working), (Talent, Population 25+ with Associate's Degree or Higher), (Talent, Population 25+ with Bachelor's Degree or Higher), (Talent, Population Employed in Advanced Industries), (Vital Stats, Labor Force Participation Rate), (Vital Stats, Population Growth), (Vital Stats, Population of Color), (Vital Stats, Poverty Rate- Of Color), (Vital Stats, Poverty Rate- White), (Vital Stats, Top Tier Tax Rates Corporate Income Tax), (Vital Stats, Top Tier Tax Rates Personal Income Tax), (Vital Stats, Unemployment Rate Annualized)]"
      ]
     },
     "execution_count": 22,
     "metadata": {},
     "output_type": "execute_result"
    }
   ],
   "source": [
    "output_df.loc[output_df['Data_Type'] == 'Percent',\n",
    "              ['Category','Indicator']].groupby(['Category','Indicator']).count()"
   ]
  },
  {
   "cell_type": "code",
   "execution_count": 23,
   "metadata": {
    "scrolled": true,
    "slideshow": {
     "slide_type": "skip"
    }
   },
   "outputs": [
    {
     "data": {
      "text/plain": [
       "count    1760.000000\n",
       "mean        0.315576\n",
       "std         0.260224\n",
       "min        -0.026000\n",
       "25%         0.055925\n",
       "50%         0.287000\n",
       "75%         0.556000\n",
       "max         0.880000\n",
       "Name: Value, dtype: float64"
      ]
     },
     "execution_count": 23,
     "metadata": {},
     "output_type": "execute_result"
    }
   ],
   "source": [
    "output_df.loc[output_df['Data_Type'] == 'Percent','Value'].describe()"
   ]
  },
  {
   "cell_type": "markdown",
   "metadata": {
    "slideshow": {
     "slide_type": "notes"
    }
   },
   "source": [
    "Dollar amounts are larger--with quite a range, as we are talking about values as small as cents/kWh and as large as the annual amount of venture capital."
   ]
  },
  {
   "cell_type": "code",
   "execution_count": 24,
   "metadata": {
    "slideshow": {
     "slide_type": "skip"
    }
   },
   "outputs": [
    {
     "data": {
      "text/html": [
       "<div>\n",
       "<style scoped>\n",
       "    .dataframe tbody tr th:only-of-type {\n",
       "        vertical-align: middle;\n",
       "    }\n",
       "\n",
       "    .dataframe tbody tr th {\n",
       "        vertical-align: top;\n",
       "    }\n",
       "\n",
       "    .dataframe thead th {\n",
       "        text-align: right;\n",
       "    }\n",
       "</style>\n",
       "<table border=\"1\" class=\"dataframe\">\n",
       "  <thead>\n",
       "    <tr style=\"text-align: right;\">\n",
       "      <th></th>\n",
       "      <th></th>\n",
       "    </tr>\n",
       "    <tr>\n",
       "      <th>Category</th>\n",
       "      <th>Indicator</th>\n",
       "    </tr>\n",
       "  </thead>\n",
       "  <tbody>\n",
       "    <tr>\n",
       "      <th rowspan=\"3\" valign=\"top\">Business Vitality</th>\n",
       "      <th>Annual Amount of Venture Capital</th>\n",
       "    </tr>\n",
       "    <tr>\n",
       "      <th>Loans to Businesses With Under $1M In Revenue (000s)</th>\n",
       "    </tr>\n",
       "    <tr>\n",
       "      <th>Value of Exports</th>\n",
       "    </tr>\n",
       "    <tr>\n",
       "      <th>Economy</th>\n",
       "      <th>Average Weekly Wage</th>\n",
       "    </tr>\n",
       "    <tr>\n",
       "      <th>Environment</th>\n",
       "      <th>Electricity Cost (Average Industrial) (Cents/kWh; Primary Metro Utility)</th>\n",
       "    </tr>\n",
       "    <tr>\n",
       "      <th>Livability</th>\n",
       "      <th>Median Home Purchase Price</th>\n",
       "    </tr>\n",
       "    <tr>\n",
       "      <th>Vital Stats</th>\n",
       "      <th>Median Household Income</th>\n",
       "    </tr>\n",
       "  </tbody>\n",
       "</table>\n",
       "</div>"
      ],
      "text/plain": [
       "Empty DataFrame\n",
       "Columns: []\n",
       "Index: [(Business Vitality, Annual Amount of Venture Capital), (Business Vitality, Loans to Businesses With Under $1M In Revenue (000s)), (Business Vitality, Value of Exports), (Economy, Average Weekly Wage), (Environment, Electricity Cost (Average Industrial) (Cents/kWh; Primary Metro Utility)), (Livability, Median Home Purchase Price), (Vital Stats, Median Household Income)]"
      ]
     },
     "execution_count": 24,
     "metadata": {},
     "output_type": "execute_result"
    }
   ],
   "source": [
    "output_df.loc[output_df['Data_Type'] == 'Dollar',\n",
    "              ['Category','Indicator']].groupby(['Category','Indicator']).count()"
   ]
  },
  {
   "cell_type": "code",
   "execution_count": 25,
   "metadata": {
    "scrolled": true,
    "slideshow": {
     "slide_type": "skip"
    }
   },
   "outputs": [
    {
     "data": {
      "text/plain": [
       "count    3.930000e+02\n",
       "mean     4.358284e+09\n",
       "std      1.132914e+10\n",
       "min      5.260000e+00\n",
       "25%      1.149000e+03\n",
       "50%      2.958000e+05\n",
       "75%      9.470000e+08\n",
       "max      6.915400e+10\n",
       "Name: Value, dtype: float64"
      ]
     },
     "execution_count": 25,
     "metadata": {},
     "output_type": "execute_result"
    }
   ],
   "source": [
    "output_df.loc[output_df['Data_Type'] == 'Dollar','Value'].describe()"
   ]
  },
  {
   "cell_type": "markdown",
   "metadata": {
    "slideshow": {
     "slide_type": "notes"
    }
   },
   "source": [
    "Remaining values are simply numeric--they're not dollar amounts or percentages, and have varying units of comparison."
   ]
  },
  {
   "cell_type": "code",
   "execution_count": 26,
   "metadata": {
    "slideshow": {
     "slide_type": "skip"
    }
   },
   "outputs": [
    {
     "data": {
      "text/html": [
       "<div>\n",
       "<style scoped>\n",
       "    .dataframe tbody tr th:only-of-type {\n",
       "        vertical-align: middle;\n",
       "    }\n",
       "\n",
       "    .dataframe tbody tr th {\n",
       "        vertical-align: top;\n",
       "    }\n",
       "\n",
       "    .dataframe thead th {\n",
       "        text-align: right;\n",
       "    }\n",
       "</style>\n",
       "<table border=\"1\" class=\"dataframe\">\n",
       "  <thead>\n",
       "    <tr style=\"text-align: right;\">\n",
       "      <th></th>\n",
       "      <th></th>\n",
       "    </tr>\n",
       "    <tr>\n",
       "      <th>Category</th>\n",
       "      <th>Indicator</th>\n",
       "    </tr>\n",
       "  </thead>\n",
       "  <tbody>\n",
       "    <tr>\n",
       "      <th rowspan=\"2\" valign=\"top\">Business Vitality</th>\n",
       "      <th>New Establishments (State Level)</th>\n",
       "    </tr>\n",
       "    <tr>\n",
       "      <th>Patents Issued Per 1,000 Workers</th>\n",
       "    </tr>\n",
       "    <tr>\n",
       "      <th rowspan=\"3\" valign=\"top\">Environment</th>\n",
       "      <th>Energy Related Carbon Dioxide Emissions Per Capita (State Level)</th>\n",
       "    </tr>\n",
       "    <tr>\n",
       "      <th>Number of Days That Air Quality Was \"Unhealthy For Sensitive Groups\" (Days/Year)</th>\n",
       "    </tr>\n",
       "    <tr>\n",
       "      <th>Per Capita Water Usage (Gal/Day)</th>\n",
       "    </tr>\n",
       "    <tr>\n",
       "      <th rowspan=\"2\" valign=\"top\">Infrastructure</th>\n",
       "      <th>Annual Hours of Delay Per Commuter</th>\n",
       "    </tr>\n",
       "    <tr>\n",
       "      <th>Number of Direct Routes Out of Home Airport</th>\n",
       "    </tr>\n",
       "    <tr>\n",
       "      <th>Livability</th>\n",
       "      <th>Number of Violent Crimes Committed Per 100k Residents</th>\n",
       "    </tr>\n",
       "    <tr>\n",
       "      <th>Talent</th>\n",
       "      <th>Net Migration Of 25-34 Year Olds</th>\n",
       "    </tr>\n",
       "    <tr>\n",
       "      <th rowspan=\"4\" valign=\"top\">Vital Stats</th>\n",
       "      <th>Gross Regional Product (Millions)</th>\n",
       "    </tr>\n",
       "    <tr>\n",
       "      <th>Gross Regional Product Per Capita</th>\n",
       "    </tr>\n",
       "    <tr>\n",
       "      <th>Population</th>\n",
       "    </tr>\n",
       "    <tr>\n",
       "      <th>Total Jobs</th>\n",
       "    </tr>\n",
       "  </tbody>\n",
       "</table>\n",
       "</div>"
      ],
      "text/plain": [
       "Empty DataFrame\n",
       "Columns: []\n",
       "Index: [(Business Vitality, New Establishments (State Level)), (Business Vitality, Patents Issued Per 1,000 Workers), (Environment, Energy Related Carbon Dioxide Emissions Per Capita (State Level)), (Environment, Number of Days That Air Quality Was \"Unhealthy For Sensitive Groups\" (Days/Year)), (Environment, Per Capita Water Usage (Gal/Day)), (Infrastructure, Annual Hours of Delay Per Commuter), (Infrastructure, Number of Direct Routes Out of Home Airport), (Livability, Number of Violent Crimes Committed Per 100k Residents), (Talent, Net Migration Of 25-34 Year Olds), (Vital Stats, Gross Regional Product (Millions)), (Vital Stats, Gross Regional Product Per Capita), (Vital Stats, Population), (Vital Stats, Total Jobs)]"
      ]
     },
     "execution_count": 26,
     "metadata": {},
     "output_type": "execute_result"
    }
   ],
   "source": [
    "output_df.loc[output_df['Data_Type'] == 'Numeric',['Category','Indicator']].groupby(['Category','Indicator']).count()"
   ]
  },
  {
   "cell_type": "code",
   "execution_count": 27,
   "metadata": {
    "slideshow": {
     "slide_type": "skip"
    }
   },
   "outputs": [
    {
     "data": {
      "text/plain": [
       "count    7.830000e+02\n",
       "mean     5.391210e+05\n",
       "std      1.385281e+06\n",
       "min     -2.303600e+04\n",
       "25%      3.900000e+01\n",
       "50%      3.053000e+02\n",
       "75%      1.140151e+05\n",
       "max      9.553810e+06\n",
       "Name: Value, dtype: float64"
      ]
     },
     "execution_count": 27,
     "metadata": {},
     "output_type": "execute_result"
    }
   ],
   "source": [
    "output_df.loc[output_df['Data_Type'] == 'Numeric','Value'].describe()"
   ]
  },
  {
   "cell_type": "markdown",
   "metadata": {
    "slideshow": {
     "slide_type": "notes"
    }
   },
   "source": [
    "Formatted Value is simply Value, with some formatting applied based on Data Type."
   ]
  },
  {
   "cell_type": "markdown",
   "metadata": {
    "slideshow": {
     "slide_type": "notes"
    }
   },
   "source": [
    "### Rank/Rank Order\n",
    "\n",
    "The ranges of these two variables looked correct at a glance (12 unique values for Rank, 3 unique values for Rank Order). Let's look at these two in just a little more detail, to make sure the values themselves make sense."
   ]
  },
  {
   "cell_type": "code",
   "execution_count": 28,
   "metadata": {
    "slideshow": {
     "slide_type": "skip"
    }
   },
   "outputs": [
    {
     "data": {
      "text/plain": [
       "1     261\n",
       "2     247\n",
       "3     229\n",
       "4     249\n",
       "5     251\n",
       "6     238\n",
       "7     235\n",
       "8     245\n",
       "9     240\n",
       "10    249\n",
       "11    234\n",
       "12    220\n",
       "Name: Rank, dtype: int64"
      ]
     },
     "execution_count": 28,
     "metadata": {},
     "output_type": "execute_result"
    }
   ],
   "source": [
    "output_df['Rank'].value_counts().sort_index()"
   ]
  },
  {
   "cell_type": "markdown",
   "metadata": {
    "slideshow": {
     "slide_type": "notes"
    }
   },
   "source": [
    "There isn't an even count for each rank, and that's probably fair--cities sometimes tie for a rank, in which case that rank shows up twice, and the rank below the shared one is dropped."
   ]
  },
  {
   "cell_type": "code",
   "execution_count": 29,
   "metadata": {
    "scrolled": true,
    "slideshow": {
     "slide_type": "skip"
    }
   },
   "outputs": [
    {
     "data": {
      "text/plain": [
       "(highest to lowest)      2052\n",
       "(lowest to highest)      1092\n",
       "(largest to smallest)      60\n",
       "Name: Rank_Order, dtype: int64"
      ]
     },
     "execution_count": 29,
     "metadata": {},
     "output_type": "execute_result"
    }
   ],
   "source": [
    "output_df['Rank_Order'].value_counts()"
   ]
  },
  {
   "cell_type": "code",
   "execution_count": 30,
   "metadata": {
    "slideshow": {
     "slide_type": "skip"
    }
   },
   "outputs": [
    {
     "data": {
      "text/html": [
       "<div>\n",
       "<style scoped>\n",
       "    .dataframe tbody tr th:only-of-type {\n",
       "        vertical-align: middle;\n",
       "    }\n",
       "\n",
       "    .dataframe tbody tr th {\n",
       "        vertical-align: top;\n",
       "    }\n",
       "\n",
       "    .dataframe thead th {\n",
       "        text-align: right;\n",
       "    }\n",
       "</style>\n",
       "<table border=\"1\" class=\"dataframe\">\n",
       "  <thead>\n",
       "    <tr style=\"text-align: right;\">\n",
       "      <th></th>\n",
       "      <th>Category</th>\n",
       "      <th>Indicator</th>\n",
       "      <th>Metro</th>\n",
       "      <th>Year_Desc</th>\n",
       "      <th>Year</th>\n",
       "      <th>Value</th>\n",
       "      <th>Formatted_Value</th>\n",
       "      <th>Rank</th>\n",
       "      <th>Rank_Order</th>\n",
       "      <th>Key_Indicator</th>\n",
       "      <th>Data_Type</th>\n",
       "    </tr>\n",
       "  </thead>\n",
       "  <tbody>\n",
       "    <tr>\n",
       "      <th>2872</th>\n",
       "      <td>Vital Stats</td>\n",
       "      <td>Population</td>\n",
       "      <td>Atlanta-Sandy Springs-Roswell, GA Metro Area</td>\n",
       "      <td>2015 (2013 data)</td>\n",
       "      <td>2015</td>\n",
       "      <td>5524693.0</td>\n",
       "      <td>5,524,693.00</td>\n",
       "      <td>3</td>\n",
       "      <td>(largest to smallest)</td>\n",
       "      <td>0</td>\n",
       "      <td>Numeric</td>\n",
       "    </tr>\n",
       "    <tr>\n",
       "      <th>2873</th>\n",
       "      <td>Vital Stats</td>\n",
       "      <td>Population</td>\n",
       "      <td>Atlanta-Sandy Springs-Roswell, GA Metro Area</td>\n",
       "      <td>2016 (2014 data)</td>\n",
       "      <td>2016</td>\n",
       "      <td>5611829.0</td>\n",
       "      <td>5,611,829.00</td>\n",
       "      <td>3</td>\n",
       "      <td>(largest to smallest)</td>\n",
       "      <td>0</td>\n",
       "      <td>Numeric</td>\n",
       "    </tr>\n",
       "    <tr>\n",
       "      <th>2874</th>\n",
       "      <td>Vital Stats</td>\n",
       "      <td>Population</td>\n",
       "      <td>Atlanta-Sandy Springs-Roswell, GA Metro Area</td>\n",
       "      <td>2017 (2015 data)</td>\n",
       "      <td>2017</td>\n",
       "      <td>5709731.0</td>\n",
       "      <td>5,709,731.00</td>\n",
       "      <td>3</td>\n",
       "      <td>(largest to smallest)</td>\n",
       "      <td>0</td>\n",
       "      <td>Numeric</td>\n",
       "    </tr>\n",
       "    <tr>\n",
       "      <th>2875</th>\n",
       "      <td>Vital Stats</td>\n",
       "      <td>Population</td>\n",
       "      <td>Atlanta-Sandy Springs-Roswell, GA Metro Area</td>\n",
       "      <td>2018 (2016 data)</td>\n",
       "      <td>2018</td>\n",
       "      <td>5790210.0</td>\n",
       "      <td>5,790,210.00</td>\n",
       "      <td>3</td>\n",
       "      <td>(largest to smallest)</td>\n",
       "      <td>0</td>\n",
       "      <td>Numeric</td>\n",
       "    </tr>\n",
       "    <tr>\n",
       "      <th>2876</th>\n",
       "      <td>Vital Stats</td>\n",
       "      <td>Population</td>\n",
       "      <td>Atlanta-Sandy Springs-Roswell, GA Metro Area</td>\n",
       "      <td>2019 (2017 data)</td>\n",
       "      <td>2019</td>\n",
       "      <td>5882450.0</td>\n",
       "      <td>5,882,450.00</td>\n",
       "      <td>3</td>\n",
       "      <td>(largest to smallest)</td>\n",
       "      <td>0</td>\n",
       "      <td>Numeric</td>\n",
       "    </tr>\n",
       "    <tr>\n",
       "      <th>2939</th>\n",
       "      <td>Vital Stats</td>\n",
       "      <td>Population</td>\n",
       "      <td>Austin-Round Rock, TX Metro Area</td>\n",
       "      <td>2015 (2013 data)</td>\n",
       "      <td>2015</td>\n",
       "      <td>1883051.0</td>\n",
       "      <td>1,883,051.00</td>\n",
       "      <td>12</td>\n",
       "      <td>(largest to smallest)</td>\n",
       "      <td>0</td>\n",
       "      <td>Numeric</td>\n",
       "    </tr>\n",
       "    <tr>\n",
       "      <th>2940</th>\n",
       "      <td>Vital Stats</td>\n",
       "      <td>Population</td>\n",
       "      <td>Austin-Round Rock, TX Metro Area</td>\n",
       "      <td>2016 (2014 data)</td>\n",
       "      <td>2016</td>\n",
       "      <td>1943299.0</td>\n",
       "      <td>1,943,299.00</td>\n",
       "      <td>12</td>\n",
       "      <td>(largest to smallest)</td>\n",
       "      <td>0</td>\n",
       "      <td>Numeric</td>\n",
       "    </tr>\n",
       "    <tr>\n",
       "      <th>2941</th>\n",
       "      <td>Vital Stats</td>\n",
       "      <td>Population</td>\n",
       "      <td>Austin-Round Rock, TX Metro Area</td>\n",
       "      <td>2017 (2015 data)</td>\n",
       "      <td>2017</td>\n",
       "      <td>2000860.0</td>\n",
       "      <td>2,000,860.00</td>\n",
       "      <td>12</td>\n",
       "      <td>(largest to smallest)</td>\n",
       "      <td>0</td>\n",
       "      <td>Numeric</td>\n",
       "    </tr>\n",
       "    <tr>\n",
       "      <th>2942</th>\n",
       "      <td>Vital Stats</td>\n",
       "      <td>Population</td>\n",
       "      <td>Austin-Round Rock, TX Metro Area</td>\n",
       "      <td>2018 (2016 data)</td>\n",
       "      <td>2018</td>\n",
       "      <td>2056405.0</td>\n",
       "      <td>2,056,405.00</td>\n",
       "      <td>12</td>\n",
       "      <td>(largest to smallest)</td>\n",
       "      <td>0</td>\n",
       "      <td>Numeric</td>\n",
       "    </tr>\n",
       "    <tr>\n",
       "      <th>2943</th>\n",
       "      <td>Vital Stats</td>\n",
       "      <td>Population</td>\n",
       "      <td>Austin-Round Rock, TX Metro Area</td>\n",
       "      <td>2019 (2017 data)</td>\n",
       "      <td>2019</td>\n",
       "      <td>2115827.0</td>\n",
       "      <td>2,115,827.00</td>\n",
       "      <td>12</td>\n",
       "      <td>(largest to smallest)</td>\n",
       "      <td>0</td>\n",
       "      <td>Numeric</td>\n",
       "    </tr>\n",
       "    <tr>\n",
       "      <th>3006</th>\n",
       "      <td>Vital Stats</td>\n",
       "      <td>Population</td>\n",
       "      <td>Boston-Cambridge-Newton, MA-NH Metro Area</td>\n",
       "      <td>2015 (2013 data)</td>\n",
       "      <td>2015</td>\n",
       "      <td>4684299.0</td>\n",
       "      <td>4,684,299.00</td>\n",
       "      <td>4</td>\n",
       "      <td>(largest to smallest)</td>\n",
       "      <td>0</td>\n",
       "      <td>Numeric</td>\n",
       "    </tr>\n",
       "    <tr>\n",
       "      <th>3007</th>\n",
       "      <td>Vital Stats</td>\n",
       "      <td>Population</td>\n",
       "      <td>Boston-Cambridge-Newton, MA-NH Metro Area</td>\n",
       "      <td>2016 (2014 data)</td>\n",
       "      <td>2016</td>\n",
       "      <td>4732161.0</td>\n",
       "      <td>4,732,161.00</td>\n",
       "      <td>4</td>\n",
       "      <td>(largest to smallest)</td>\n",
       "      <td>0</td>\n",
       "      <td>Numeric</td>\n",
       "    </tr>\n",
       "    <tr>\n",
       "      <th>3008</th>\n",
       "      <td>Vital Stats</td>\n",
       "      <td>Population</td>\n",
       "      <td>Boston-Cambridge-Newton, MA-NH Metro Area</td>\n",
       "      <td>2017 (2015 data)</td>\n",
       "      <td>2017</td>\n",
       "      <td>4774321.0</td>\n",
       "      <td>4,774,321.00</td>\n",
       "      <td>4</td>\n",
       "      <td>(largest to smallest)</td>\n",
       "      <td>0</td>\n",
       "      <td>Numeric</td>\n",
       "    </tr>\n",
       "    <tr>\n",
       "      <th>3009</th>\n",
       "      <td>Vital Stats</td>\n",
       "      <td>Population</td>\n",
       "      <td>Boston-Cambridge-Newton, MA-NH Metro Area</td>\n",
       "      <td>2018 (2016 data)</td>\n",
       "      <td>2018</td>\n",
       "      <td>4794447.0</td>\n",
       "      <td>4,794,447.00</td>\n",
       "      <td>4</td>\n",
       "      <td>(largest to smallest)</td>\n",
       "      <td>0</td>\n",
       "      <td>Numeric</td>\n",
       "    </tr>\n",
       "    <tr>\n",
       "      <th>3010</th>\n",
       "      <td>Vital Stats</td>\n",
       "      <td>Population</td>\n",
       "      <td>Boston-Cambridge-Newton, MA-NH Metro Area</td>\n",
       "      <td>2019 (2017 data)</td>\n",
       "      <td>2019</td>\n",
       "      <td>4836531.0</td>\n",
       "      <td>4,836,531.00</td>\n",
       "      <td>4</td>\n",
       "      <td>(largest to smallest)</td>\n",
       "      <td>0</td>\n",
       "      <td>Numeric</td>\n",
       "    </tr>\n",
       "    <tr>\n",
       "      <th>3073</th>\n",
       "      <td>Vital Stats</td>\n",
       "      <td>Population</td>\n",
       "      <td>Charlotte-Concord-Gastonia, NC-SC Metro Area</td>\n",
       "      <td>2015 (2013 data)</td>\n",
       "      <td>2015</td>\n",
       "      <td>2335358.0</td>\n",
       "      <td>2,335,358.00</td>\n",
       "      <td>10</td>\n",
       "      <td>(largest to smallest)</td>\n",
       "      <td>0</td>\n",
       "      <td>Numeric</td>\n",
       "    </tr>\n",
       "    <tr>\n",
       "      <th>3074</th>\n",
       "      <td>Vital Stats</td>\n",
       "      <td>Population</td>\n",
       "      <td>Charlotte-Concord-Gastonia, NC-SC Metro Area</td>\n",
       "      <td>2016 (2014 data)</td>\n",
       "      <td>2016</td>\n",
       "      <td>2380314.0</td>\n",
       "      <td>2,380,314.00</td>\n",
       "      <td>9</td>\n",
       "      <td>(largest to smallest)</td>\n",
       "      <td>0</td>\n",
       "      <td>Numeric</td>\n",
       "    </tr>\n",
       "    <tr>\n",
       "      <th>3075</th>\n",
       "      <td>Vital Stats</td>\n",
       "      <td>Population</td>\n",
       "      <td>Charlotte-Concord-Gastonia, NC-SC Metro Area</td>\n",
       "      <td>2017 (2015 data)</td>\n",
       "      <td>2017</td>\n",
       "      <td>2426363.0</td>\n",
       "      <td>2,426,363.00</td>\n",
       "      <td>9</td>\n",
       "      <td>(largest to smallest)</td>\n",
       "      <td>0</td>\n",
       "      <td>Numeric</td>\n",
       "    </tr>\n",
       "    <tr>\n",
       "      <th>3076</th>\n",
       "      <td>Vital Stats</td>\n",
       "      <td>Population</td>\n",
       "      <td>Charlotte-Concord-Gastonia, NC-SC Metro Area</td>\n",
       "      <td>2018 (2016 data)</td>\n",
       "      <td>2018</td>\n",
       "      <td>2474314.0</td>\n",
       "      <td>2,474,314.00</td>\n",
       "      <td>9</td>\n",
       "      <td>(largest to smallest)</td>\n",
       "      <td>0</td>\n",
       "      <td>Numeric</td>\n",
       "    </tr>\n",
       "    <tr>\n",
       "      <th>3077</th>\n",
       "      <td>Vital Stats</td>\n",
       "      <td>Population</td>\n",
       "      <td>Charlotte-Concord-Gastonia, NC-SC Metro Area</td>\n",
       "      <td>2019 (2017 data)</td>\n",
       "      <td>2019</td>\n",
       "      <td>2525305.0</td>\n",
       "      <td>2,525,305.00</td>\n",
       "      <td>9</td>\n",
       "      <td>(largest to smallest)</td>\n",
       "      <td>0</td>\n",
       "      <td>Numeric</td>\n",
       "    </tr>\n",
       "    <tr>\n",
       "      <th>3140</th>\n",
       "      <td>Vital Stats</td>\n",
       "      <td>Population</td>\n",
       "      <td>Chicago-Naperville-Elgin, IL-IN-WI Metro Area</td>\n",
       "      <td>2015 (2013 data)</td>\n",
       "      <td>2015</td>\n",
       "      <td>9537040.0</td>\n",
       "      <td>9,537,040.00</td>\n",
       "      <td>1</td>\n",
       "      <td>(largest to smallest)</td>\n",
       "      <td>0</td>\n",
       "      <td>Numeric</td>\n",
       "    </tr>\n",
       "    <tr>\n",
       "      <th>3141</th>\n",
       "      <td>Vital Stats</td>\n",
       "      <td>Population</td>\n",
       "      <td>Chicago-Naperville-Elgin, IL-IN-WI Metro Area</td>\n",
       "      <td>2016 (2014 data)</td>\n",
       "      <td>2016</td>\n",
       "      <td>9553810.0</td>\n",
       "      <td>9,553,810.00</td>\n",
       "      <td>1</td>\n",
       "      <td>(largest to smallest)</td>\n",
       "      <td>0</td>\n",
       "      <td>Numeric</td>\n",
       "    </tr>\n",
       "    <tr>\n",
       "      <th>3142</th>\n",
       "      <td>Vital Stats</td>\n",
       "      <td>Population</td>\n",
       "      <td>Chicago-Naperville-Elgin, IL-IN-WI Metro Area</td>\n",
       "      <td>2017 (2015 data)</td>\n",
       "      <td>2017</td>\n",
       "      <td>9550108.0</td>\n",
       "      <td>9,550,108.00</td>\n",
       "      <td>1</td>\n",
       "      <td>(largest to smallest)</td>\n",
       "      <td>0</td>\n",
       "      <td>Numeric</td>\n",
       "    </tr>\n",
       "    <tr>\n",
       "      <th>3143</th>\n",
       "      <td>Vital Stats</td>\n",
       "      <td>Population</td>\n",
       "      <td>Chicago-Naperville-Elgin, IL-IN-WI Metro Area</td>\n",
       "      <td>2018 (2016 data)</td>\n",
       "      <td>2018</td>\n",
       "      <td>9512968.0</td>\n",
       "      <td>9,512,968.00</td>\n",
       "      <td>1</td>\n",
       "      <td>(largest to smallest)</td>\n",
       "      <td>0</td>\n",
       "      <td>Numeric</td>\n",
       "    </tr>\n",
       "    <tr>\n",
       "      <th>3144</th>\n",
       "      <td>Vital Stats</td>\n",
       "      <td>Population</td>\n",
       "      <td>Chicago-Naperville-Elgin, IL-IN-WI Metro Area</td>\n",
       "      <td>2019 (2017 data)</td>\n",
       "      <td>2019</td>\n",
       "      <td>9533895.0</td>\n",
       "      <td>9,533,895.00</td>\n",
       "      <td>1</td>\n",
       "      <td>(largest to smallest)</td>\n",
       "      <td>0</td>\n",
       "      <td>Numeric</td>\n",
       "    </tr>\n",
       "    <tr>\n",
       "      <th>3207</th>\n",
       "      <td>Vital Stats</td>\n",
       "      <td>Population</td>\n",
       "      <td>Dallas-Fort Worth-Arlington, TX Metro Area</td>\n",
       "      <td>2015 (2013 data)</td>\n",
       "      <td>2015</td>\n",
       "      <td>6812373.0</td>\n",
       "      <td>6,812,373.00</td>\n",
       "      <td>2</td>\n",
       "      <td>(largest to smallest)</td>\n",
       "      <td>0</td>\n",
       "      <td>Numeric</td>\n",
       "    </tr>\n",
       "    <tr>\n",
       "      <th>3208</th>\n",
       "      <td>Vital Stats</td>\n",
       "      <td>Population</td>\n",
       "      <td>Dallas-Fort Worth-Arlington, TX Metro Area</td>\n",
       "      <td>2016 (2014 data)</td>\n",
       "      <td>2016</td>\n",
       "      <td>6954003.0</td>\n",
       "      <td>6,954,003.00</td>\n",
       "      <td>2</td>\n",
       "      <td>(largest to smallest)</td>\n",
       "      <td>0</td>\n",
       "      <td>Numeric</td>\n",
       "    </tr>\n",
       "    <tr>\n",
       "      <th>3209</th>\n",
       "      <td>Vital Stats</td>\n",
       "      <td>Population</td>\n",
       "      <td>Dallas-Fort Worth-Arlington, TX Metro Area</td>\n",
       "      <td>2017 (2015 data)</td>\n",
       "      <td>2017</td>\n",
       "      <td>7102165.0</td>\n",
       "      <td>7,102,165.00</td>\n",
       "      <td>2</td>\n",
       "      <td>(largest to smallest)</td>\n",
       "      <td>0</td>\n",
       "      <td>Numeric</td>\n",
       "    </tr>\n",
       "    <tr>\n",
       "      <th>3210</th>\n",
       "      <td>Vital Stats</td>\n",
       "      <td>Population</td>\n",
       "      <td>Dallas-Fort Worth-Arlington, TX Metro Area</td>\n",
       "      <td>2018 (2016 data)</td>\n",
       "      <td>2018</td>\n",
       "      <td>7232599.0</td>\n",
       "      <td>7,232,599.00</td>\n",
       "      <td>2</td>\n",
       "      <td>(largest to smallest)</td>\n",
       "      <td>0</td>\n",
       "      <td>Numeric</td>\n",
       "    </tr>\n",
       "    <tr>\n",
       "      <th>3211</th>\n",
       "      <td>Vital Stats</td>\n",
       "      <td>Population</td>\n",
       "      <td>Dallas-Fort Worth-Arlington, TX Metro Area</td>\n",
       "      <td>2019 (2017 data)</td>\n",
       "      <td>2019</td>\n",
       "      <td>7400479.0</td>\n",
       "      <td>7,400,479.00</td>\n",
       "      <td>2</td>\n",
       "      <td>(largest to smallest)</td>\n",
       "      <td>0</td>\n",
       "      <td>Numeric</td>\n",
       "    </tr>\n",
       "    <tr>\n",
       "      <th>3274</th>\n",
       "      <td>Vital Stats</td>\n",
       "      <td>Population</td>\n",
       "      <td>Denver-Aurora-Lakewood, CO Metro Area</td>\n",
       "      <td>2015 (2013 data)</td>\n",
       "      <td>2015</td>\n",
       "      <td>2697476.0</td>\n",
       "      <td>2,697,476.00</td>\n",
       "      <td>8</td>\n",
       "      <td>(largest to smallest)</td>\n",
       "      <td>0</td>\n",
       "      <td>Numeric</td>\n",
       "    </tr>\n",
       "    <tr>\n",
       "      <th>3275</th>\n",
       "      <td>Vital Stats</td>\n",
       "      <td>Population</td>\n",
       "      <td>Denver-Aurora-Lakewood, CO Metro Area</td>\n",
       "      <td>2016 (2014 data)</td>\n",
       "      <td>2016</td>\n",
       "      <td>2754258.0</td>\n",
       "      <td>2,754,258.00</td>\n",
       "      <td>8</td>\n",
       "      <td>(largest to smallest)</td>\n",
       "      <td>0</td>\n",
       "      <td>Numeric</td>\n",
       "    </tr>\n",
       "    <tr>\n",
       "      <th>3276</th>\n",
       "      <td>Vital Stats</td>\n",
       "      <td>Population</td>\n",
       "      <td>Denver-Aurora-Lakewood, CO Metro Area</td>\n",
       "      <td>2017 (2015 data)</td>\n",
       "      <td>2017</td>\n",
       "      <td>2814330.0</td>\n",
       "      <td>2,814,330.00</td>\n",
       "      <td>8</td>\n",
       "      <td>(largest to smallest)</td>\n",
       "      <td>0</td>\n",
       "      <td>Numeric</td>\n",
       "    </tr>\n",
       "    <tr>\n",
       "      <th>3277</th>\n",
       "      <td>Vital Stats</td>\n",
       "      <td>Population</td>\n",
       "      <td>Denver-Aurora-Lakewood, CO Metro Area</td>\n",
       "      <td>2018 (2016 data)</td>\n",
       "      <td>2018</td>\n",
       "      <td>2853077.0</td>\n",
       "      <td>2,853,077.00</td>\n",
       "      <td>8</td>\n",
       "      <td>(largest to smallest)</td>\n",
       "      <td>0</td>\n",
       "      <td>Numeric</td>\n",
       "    </tr>\n",
       "    <tr>\n",
       "      <th>3278</th>\n",
       "      <td>Vital Stats</td>\n",
       "      <td>Population</td>\n",
       "      <td>Denver-Aurora-Lakewood, CO Metro Area</td>\n",
       "      <td>2019 (2017 data)</td>\n",
       "      <td>2019</td>\n",
       "      <td>2888227.0</td>\n",
       "      <td>2,888,227.00</td>\n",
       "      <td>8</td>\n",
       "      <td>(largest to smallest)</td>\n",
       "      <td>0</td>\n",
       "      <td>Numeric</td>\n",
       "    </tr>\n",
       "    <tr>\n",
       "      <th>3341</th>\n",
       "      <td>Vital Stats</td>\n",
       "      <td>Population</td>\n",
       "      <td>Minneapolis-St. Paul-Bloomington, MN-WI Metro ...</td>\n",
       "      <td>2015 (2013 data)</td>\n",
       "      <td>2015</td>\n",
       "      <td>3459146.0</td>\n",
       "      <td>3,459,146.00</td>\n",
       "      <td>7</td>\n",
       "      <td>(largest to smallest)</td>\n",
       "      <td>0</td>\n",
       "      <td>Numeric</td>\n",
       "    </tr>\n",
       "    <tr>\n",
       "      <th>3342</th>\n",
       "      <td>Vital Stats</td>\n",
       "      <td>Population</td>\n",
       "      <td>Minneapolis-St. Paul-Bloomington, MN-WI Metro ...</td>\n",
       "      <td>2016 (2014 data)</td>\n",
       "      <td>2016</td>\n",
       "      <td>3495176.0</td>\n",
       "      <td>3,495,176.00</td>\n",
       "      <td>7</td>\n",
       "      <td>(largest to smallest)</td>\n",
       "      <td>0</td>\n",
       "      <td>Numeric</td>\n",
       "    </tr>\n",
       "    <tr>\n",
       "      <th>3343</th>\n",
       "      <td>Vital Stats</td>\n",
       "      <td>Population</td>\n",
       "      <td>Minneapolis-St. Paul-Bloomington, MN-WI Metro ...</td>\n",
       "      <td>2017 (2015 data)</td>\n",
       "      <td>2017</td>\n",
       "      <td>3524583.0</td>\n",
       "      <td>3,524,583.00</td>\n",
       "      <td>7</td>\n",
       "      <td>(largest to smallest)</td>\n",
       "      <td>0</td>\n",
       "      <td>Numeric</td>\n",
       "    </tr>\n",
       "    <tr>\n",
       "      <th>3344</th>\n",
       "      <td>Vital Stats</td>\n",
       "      <td>Population</td>\n",
       "      <td>Minneapolis-St. Paul-Bloomington, MN-WI Metro ...</td>\n",
       "      <td>2018 (2016 data)</td>\n",
       "      <td>2018</td>\n",
       "      <td>3551036.0</td>\n",
       "      <td>3,551,036.00</td>\n",
       "      <td>7</td>\n",
       "      <td>(largest to smallest)</td>\n",
       "      <td>0</td>\n",
       "      <td>Numeric</td>\n",
       "    </tr>\n",
       "    <tr>\n",
       "      <th>3345</th>\n",
       "      <td>Vital Stats</td>\n",
       "      <td>Population</td>\n",
       "      <td>Minneapolis-St. Paul-Bloomington, MN-WI Metro ...</td>\n",
       "      <td>2019 (2017 data)</td>\n",
       "      <td>2019</td>\n",
       "      <td>3600618.0</td>\n",
       "      <td>3,600,618.00</td>\n",
       "      <td>7</td>\n",
       "      <td>(largest to smallest)</td>\n",
       "      <td>0</td>\n",
       "      <td>Numeric</td>\n",
       "    </tr>\n",
       "    <tr>\n",
       "      <th>3408</th>\n",
       "      <td>Vital Stats</td>\n",
       "      <td>Population</td>\n",
       "      <td>Pittsburgh, PA Metro Area</td>\n",
       "      <td>2015 (2013 data)</td>\n",
       "      <td>2015</td>\n",
       "      <td>2360867.0</td>\n",
       "      <td>2,360,867.00</td>\n",
       "      <td>9</td>\n",
       "      <td>(largest to smallest)</td>\n",
       "      <td>0</td>\n",
       "      <td>Numeric</td>\n",
       "    </tr>\n",
       "    <tr>\n",
       "      <th>3409</th>\n",
       "      <td>Vital Stats</td>\n",
       "      <td>Population</td>\n",
       "      <td>Pittsburgh, PA Metro Area</td>\n",
       "      <td>2016 (2014 data)</td>\n",
       "      <td>2016</td>\n",
       "      <td>2355968.0</td>\n",
       "      <td>2,355,968.00</td>\n",
       "      <td>10</td>\n",
       "      <td>(largest to smallest)</td>\n",
       "      <td>0</td>\n",
       "      <td>Numeric</td>\n",
       "    </tr>\n",
       "    <tr>\n",
       "      <th>3410</th>\n",
       "      <td>Vital Stats</td>\n",
       "      <td>Population</td>\n",
       "      <td>Pittsburgh, PA Metro Area</td>\n",
       "      <td>2017 (2015 data)</td>\n",
       "      <td>2017</td>\n",
       "      <td>2353045.0</td>\n",
       "      <td>2,353,045.00</td>\n",
       "      <td>11</td>\n",
       "      <td>(largest to smallest)</td>\n",
       "      <td>0</td>\n",
       "      <td>Numeric</td>\n",
       "    </tr>\n",
       "    <tr>\n",
       "      <th>3411</th>\n",
       "      <td>Vital Stats</td>\n",
       "      <td>Population</td>\n",
       "      <td>Pittsburgh, PA Metro Area</td>\n",
       "      <td>2018 (2016 data)</td>\n",
       "      <td>2018</td>\n",
       "      <td>2342299.0</td>\n",
       "      <td>2,342,299.00</td>\n",
       "      <td>11</td>\n",
       "      <td>(largest to smallest)</td>\n",
       "      <td>0</td>\n",
       "      <td>Numeric</td>\n",
       "    </tr>\n",
       "    <tr>\n",
       "      <th>3412</th>\n",
       "      <td>Vital Stats</td>\n",
       "      <td>Population</td>\n",
       "      <td>Pittsburgh, PA Metro Area</td>\n",
       "      <td>2019 (2017 data)</td>\n",
       "      <td>2019</td>\n",
       "      <td>2333367.0</td>\n",
       "      <td>2,333,367.00</td>\n",
       "      <td>11</td>\n",
       "      <td>(largest to smallest)</td>\n",
       "      <td>0</td>\n",
       "      <td>Numeric</td>\n",
       "    </tr>\n",
       "    <tr>\n",
       "      <th>3475</th>\n",
       "      <td>Vital Stats</td>\n",
       "      <td>Population</td>\n",
       "      <td>Portland-Vancouver-Hillsboro, OR-WA Metro Area</td>\n",
       "      <td>2015 (2013 data)</td>\n",
       "      <td>2015</td>\n",
       "      <td>2315089.0</td>\n",
       "      <td>2,315,089.00</td>\n",
       "      <td>11</td>\n",
       "      <td>(largest to smallest)</td>\n",
       "      <td>0</td>\n",
       "      <td>Numeric</td>\n",
       "    </tr>\n",
       "    <tr>\n",
       "      <th>3476</th>\n",
       "      <td>Vital Stats</td>\n",
       "      <td>Population</td>\n",
       "      <td>Portland-Vancouver-Hillsboro, OR-WA Metro Area</td>\n",
       "      <td>2016 (2014 data)</td>\n",
       "      <td>2016</td>\n",
       "      <td>2347127.0</td>\n",
       "      <td>2,347,127.00</td>\n",
       "      <td>11</td>\n",
       "      <td>(largest to smallest)</td>\n",
       "      <td>0</td>\n",
       "      <td>Numeric</td>\n",
       "    </tr>\n",
       "    <tr>\n",
       "      <th>3477</th>\n",
       "      <td>Vital Stats</td>\n",
       "      <td>Population</td>\n",
       "      <td>Portland-Vancouver-Hillsboro, OR-WA Metro Area</td>\n",
       "      <td>2017 (2015 data)</td>\n",
       "      <td>2017</td>\n",
       "      <td>2390244.0</td>\n",
       "      <td>2,390,244.00</td>\n",
       "      <td>10</td>\n",
       "      <td>(largest to smallest)</td>\n",
       "      <td>0</td>\n",
       "      <td>Numeric</td>\n",
       "    </tr>\n",
       "    <tr>\n",
       "      <th>3478</th>\n",
       "      <td>Vital Stats</td>\n",
       "      <td>Population</td>\n",
       "      <td>Portland-Vancouver-Hillsboro, OR-WA Metro Area</td>\n",
       "      <td>2018 (2016 data)</td>\n",
       "      <td>2018</td>\n",
       "      <td>2425325.0</td>\n",
       "      <td>2,425,325.00</td>\n",
       "      <td>10</td>\n",
       "      <td>(largest to smallest)</td>\n",
       "      <td>0</td>\n",
       "      <td>Numeric</td>\n",
       "    </tr>\n",
       "    <tr>\n",
       "      <th>3479</th>\n",
       "      <td>Vital Stats</td>\n",
       "      <td>Population</td>\n",
       "      <td>Portland-Vancouver-Hillsboro, OR-WA Metro Area</td>\n",
       "      <td>2019 (2017 data)</td>\n",
       "      <td>2019</td>\n",
       "      <td>2451560.0</td>\n",
       "      <td>2,451,560.00</td>\n",
       "      <td>10</td>\n",
       "      <td>(largest to smallest)</td>\n",
       "      <td>0</td>\n",
       "      <td>Numeric</td>\n",
       "    </tr>\n",
       "    <tr>\n",
       "      <th>3542</th>\n",
       "      <td>Vital Stats</td>\n",
       "      <td>Population</td>\n",
       "      <td>San Francisco-Oakland-Hayward, CA Metro Area</td>\n",
       "      <td>2015 (2013 data)</td>\n",
       "      <td>2015</td>\n",
       "      <td>4516276.0</td>\n",
       "      <td>4,516,276.00</td>\n",
       "      <td>5</td>\n",
       "      <td>(largest to smallest)</td>\n",
       "      <td>0</td>\n",
       "      <td>Numeric</td>\n",
       "    </tr>\n",
       "    <tr>\n",
       "      <th>3543</th>\n",
       "      <td>Vital Stats</td>\n",
       "      <td>Population</td>\n",
       "      <td>San Francisco-Oakland-Hayward, CA Metro Area</td>\n",
       "      <td>2016 (2014 data)</td>\n",
       "      <td>2016</td>\n",
       "      <td>4594060.0</td>\n",
       "      <td>4,594,060.00</td>\n",
       "      <td>5</td>\n",
       "      <td>(largest to smallest)</td>\n",
       "      <td>0</td>\n",
       "      <td>Numeric</td>\n",
       "    </tr>\n",
       "    <tr>\n",
       "      <th>3544</th>\n",
       "      <td>Vital Stats</td>\n",
       "      <td>Population</td>\n",
       "      <td>San Francisco-Oakland-Hayward, CA Metro Area</td>\n",
       "      <td>2017 (2015 data)</td>\n",
       "      <td>2017</td>\n",
       "      <td>4656132.0</td>\n",
       "      <td>4,656,132.00</td>\n",
       "      <td>5</td>\n",
       "      <td>(largest to smallest)</td>\n",
       "      <td>0</td>\n",
       "      <td>Numeric</td>\n",
       "    </tr>\n",
       "    <tr>\n",
       "      <th>3545</th>\n",
       "      <td>Vital Stats</td>\n",
       "      <td>Population</td>\n",
       "      <td>San Francisco-Oakland-Hayward, CA Metro Area</td>\n",
       "      <td>2018 (2016 data)</td>\n",
       "      <td>2018</td>\n",
       "      <td>4679166.0</td>\n",
       "      <td>4,679,166.00</td>\n",
       "      <td>5</td>\n",
       "      <td>(largest to smallest)</td>\n",
       "      <td>0</td>\n",
       "      <td>Numeric</td>\n",
       "    </tr>\n",
       "    <tr>\n",
       "      <th>3546</th>\n",
       "      <td>Vital Stats</td>\n",
       "      <td>Population</td>\n",
       "      <td>San Francisco-Oakland-Hayward, CA Metro Area</td>\n",
       "      <td>2019 (2017 data)</td>\n",
       "      <td>2019</td>\n",
       "      <td>4727357.0</td>\n",
       "      <td>4,727,357.00</td>\n",
       "      <td>5</td>\n",
       "      <td>(largest to smallest)</td>\n",
       "      <td>0</td>\n",
       "      <td>Numeric</td>\n",
       "    </tr>\n",
       "    <tr>\n",
       "      <th>3609</th>\n",
       "      <td>Vital Stats</td>\n",
       "      <td>Population</td>\n",
       "      <td>Seattle-Tacoma-Bellevue, WA Metro Area</td>\n",
       "      <td>2015 (2013 data)</td>\n",
       "      <td>2015</td>\n",
       "      <td>3610105.0</td>\n",
       "      <td>3,610,105.00</td>\n",
       "      <td>6</td>\n",
       "      <td>(largest to smallest)</td>\n",
       "      <td>0</td>\n",
       "      <td>Numeric</td>\n",
       "    </tr>\n",
       "    <tr>\n",
       "      <th>3610</th>\n",
       "      <td>Vital Stats</td>\n",
       "      <td>Population</td>\n",
       "      <td>Seattle-Tacoma-Bellevue, WA Metro Area</td>\n",
       "      <td>2016 (2014 data)</td>\n",
       "      <td>2016</td>\n",
       "      <td>3671478.0</td>\n",
       "      <td>3,671,478.00</td>\n",
       "      <td>6</td>\n",
       "      <td>(largest to smallest)</td>\n",
       "      <td>0</td>\n",
       "      <td>Numeric</td>\n",
       "    </tr>\n",
       "    <tr>\n",
       "      <th>3611</th>\n",
       "      <td>Vital Stats</td>\n",
       "      <td>Population</td>\n",
       "      <td>Seattle-Tacoma-Bellevue, WA Metro Area</td>\n",
       "      <td>2017 (2015 data)</td>\n",
       "      <td>2017</td>\n",
       "      <td>3733580.0</td>\n",
       "      <td>3,733,580.00</td>\n",
       "      <td>6</td>\n",
       "      <td>(largest to smallest)</td>\n",
       "      <td>0</td>\n",
       "      <td>Numeric</td>\n",
       "    </tr>\n",
       "    <tr>\n",
       "      <th>3612</th>\n",
       "      <td>Vital Stats</td>\n",
       "      <td>Population</td>\n",
       "      <td>Seattle-Tacoma-Bellevue, WA Metro Area</td>\n",
       "      <td>2018 (2016 data)</td>\n",
       "      <td>2018</td>\n",
       "      <td>3798902.0</td>\n",
       "      <td>3,798,902.00</td>\n",
       "      <td>6</td>\n",
       "      <td>(largest to smallest)</td>\n",
       "      <td>0</td>\n",
       "      <td>Numeric</td>\n",
       "    </tr>\n",
       "    <tr>\n",
       "      <th>3613</th>\n",
       "      <td>Vital Stats</td>\n",
       "      <td>Population</td>\n",
       "      <td>Seattle-Tacoma-Bellevue, WA Metro Area</td>\n",
       "      <td>2019 (2017 data)</td>\n",
       "      <td>2019</td>\n",
       "      <td>3867046.0</td>\n",
       "      <td>3,867,046.00</td>\n",
       "      <td>6</td>\n",
       "      <td>(largest to smallest)</td>\n",
       "      <td>0</td>\n",
       "      <td>Numeric</td>\n",
       "    </tr>\n",
       "  </tbody>\n",
       "</table>\n",
       "</div>"
      ],
      "text/plain": [
       "         Category   Indicator  \\\n",
       "2872  Vital Stats  Population   \n",
       "2873  Vital Stats  Population   \n",
       "2874  Vital Stats  Population   \n",
       "2875  Vital Stats  Population   \n",
       "2876  Vital Stats  Population   \n",
       "2939  Vital Stats  Population   \n",
       "2940  Vital Stats  Population   \n",
       "2941  Vital Stats  Population   \n",
       "2942  Vital Stats  Population   \n",
       "2943  Vital Stats  Population   \n",
       "3006  Vital Stats  Population   \n",
       "3007  Vital Stats  Population   \n",
       "3008  Vital Stats  Population   \n",
       "3009  Vital Stats  Population   \n",
       "3010  Vital Stats  Population   \n",
       "3073  Vital Stats  Population   \n",
       "3074  Vital Stats  Population   \n",
       "3075  Vital Stats  Population   \n",
       "3076  Vital Stats  Population   \n",
       "3077  Vital Stats  Population   \n",
       "3140  Vital Stats  Population   \n",
       "3141  Vital Stats  Population   \n",
       "3142  Vital Stats  Population   \n",
       "3143  Vital Stats  Population   \n",
       "3144  Vital Stats  Population   \n",
       "3207  Vital Stats  Population   \n",
       "3208  Vital Stats  Population   \n",
       "3209  Vital Stats  Population   \n",
       "3210  Vital Stats  Population   \n",
       "3211  Vital Stats  Population   \n",
       "3274  Vital Stats  Population   \n",
       "3275  Vital Stats  Population   \n",
       "3276  Vital Stats  Population   \n",
       "3277  Vital Stats  Population   \n",
       "3278  Vital Stats  Population   \n",
       "3341  Vital Stats  Population   \n",
       "3342  Vital Stats  Population   \n",
       "3343  Vital Stats  Population   \n",
       "3344  Vital Stats  Population   \n",
       "3345  Vital Stats  Population   \n",
       "3408  Vital Stats  Population   \n",
       "3409  Vital Stats  Population   \n",
       "3410  Vital Stats  Population   \n",
       "3411  Vital Stats  Population   \n",
       "3412  Vital Stats  Population   \n",
       "3475  Vital Stats  Population   \n",
       "3476  Vital Stats  Population   \n",
       "3477  Vital Stats  Population   \n",
       "3478  Vital Stats  Population   \n",
       "3479  Vital Stats  Population   \n",
       "3542  Vital Stats  Population   \n",
       "3543  Vital Stats  Population   \n",
       "3544  Vital Stats  Population   \n",
       "3545  Vital Stats  Population   \n",
       "3546  Vital Stats  Population   \n",
       "3609  Vital Stats  Population   \n",
       "3610  Vital Stats  Population   \n",
       "3611  Vital Stats  Population   \n",
       "3612  Vital Stats  Population   \n",
       "3613  Vital Stats  Population   \n",
       "\n",
       "                                                  Metro         Year_Desc  \\\n",
       "2872       Atlanta-Sandy Springs-Roswell, GA Metro Area  2015 (2013 data)   \n",
       "2873       Atlanta-Sandy Springs-Roswell, GA Metro Area  2016 (2014 data)   \n",
       "2874       Atlanta-Sandy Springs-Roswell, GA Metro Area  2017 (2015 data)   \n",
       "2875       Atlanta-Sandy Springs-Roswell, GA Metro Area  2018 (2016 data)   \n",
       "2876       Atlanta-Sandy Springs-Roswell, GA Metro Area  2019 (2017 data)   \n",
       "2939                   Austin-Round Rock, TX Metro Area  2015 (2013 data)   \n",
       "2940                   Austin-Round Rock, TX Metro Area  2016 (2014 data)   \n",
       "2941                   Austin-Round Rock, TX Metro Area  2017 (2015 data)   \n",
       "2942                   Austin-Round Rock, TX Metro Area  2018 (2016 data)   \n",
       "2943                   Austin-Round Rock, TX Metro Area  2019 (2017 data)   \n",
       "3006          Boston-Cambridge-Newton, MA-NH Metro Area  2015 (2013 data)   \n",
       "3007          Boston-Cambridge-Newton, MA-NH Metro Area  2016 (2014 data)   \n",
       "3008          Boston-Cambridge-Newton, MA-NH Metro Area  2017 (2015 data)   \n",
       "3009          Boston-Cambridge-Newton, MA-NH Metro Area  2018 (2016 data)   \n",
       "3010          Boston-Cambridge-Newton, MA-NH Metro Area  2019 (2017 data)   \n",
       "3073       Charlotte-Concord-Gastonia, NC-SC Metro Area  2015 (2013 data)   \n",
       "3074       Charlotte-Concord-Gastonia, NC-SC Metro Area  2016 (2014 data)   \n",
       "3075       Charlotte-Concord-Gastonia, NC-SC Metro Area  2017 (2015 data)   \n",
       "3076       Charlotte-Concord-Gastonia, NC-SC Metro Area  2018 (2016 data)   \n",
       "3077       Charlotte-Concord-Gastonia, NC-SC Metro Area  2019 (2017 data)   \n",
       "3140      Chicago-Naperville-Elgin, IL-IN-WI Metro Area  2015 (2013 data)   \n",
       "3141      Chicago-Naperville-Elgin, IL-IN-WI Metro Area  2016 (2014 data)   \n",
       "3142      Chicago-Naperville-Elgin, IL-IN-WI Metro Area  2017 (2015 data)   \n",
       "3143      Chicago-Naperville-Elgin, IL-IN-WI Metro Area  2018 (2016 data)   \n",
       "3144      Chicago-Naperville-Elgin, IL-IN-WI Metro Area  2019 (2017 data)   \n",
       "3207         Dallas-Fort Worth-Arlington, TX Metro Area  2015 (2013 data)   \n",
       "3208         Dallas-Fort Worth-Arlington, TX Metro Area  2016 (2014 data)   \n",
       "3209         Dallas-Fort Worth-Arlington, TX Metro Area  2017 (2015 data)   \n",
       "3210         Dallas-Fort Worth-Arlington, TX Metro Area  2018 (2016 data)   \n",
       "3211         Dallas-Fort Worth-Arlington, TX Metro Area  2019 (2017 data)   \n",
       "3274              Denver-Aurora-Lakewood, CO Metro Area  2015 (2013 data)   \n",
       "3275              Denver-Aurora-Lakewood, CO Metro Area  2016 (2014 data)   \n",
       "3276              Denver-Aurora-Lakewood, CO Metro Area  2017 (2015 data)   \n",
       "3277              Denver-Aurora-Lakewood, CO Metro Area  2018 (2016 data)   \n",
       "3278              Denver-Aurora-Lakewood, CO Metro Area  2019 (2017 data)   \n",
       "3341  Minneapolis-St. Paul-Bloomington, MN-WI Metro ...  2015 (2013 data)   \n",
       "3342  Minneapolis-St. Paul-Bloomington, MN-WI Metro ...  2016 (2014 data)   \n",
       "3343  Minneapolis-St. Paul-Bloomington, MN-WI Metro ...  2017 (2015 data)   \n",
       "3344  Minneapolis-St. Paul-Bloomington, MN-WI Metro ...  2018 (2016 data)   \n",
       "3345  Minneapolis-St. Paul-Bloomington, MN-WI Metro ...  2019 (2017 data)   \n",
       "3408                          Pittsburgh, PA Metro Area  2015 (2013 data)   \n",
       "3409                          Pittsburgh, PA Metro Area  2016 (2014 data)   \n",
       "3410                          Pittsburgh, PA Metro Area  2017 (2015 data)   \n",
       "3411                          Pittsburgh, PA Metro Area  2018 (2016 data)   \n",
       "3412                          Pittsburgh, PA Metro Area  2019 (2017 data)   \n",
       "3475     Portland-Vancouver-Hillsboro, OR-WA Metro Area  2015 (2013 data)   \n",
       "3476     Portland-Vancouver-Hillsboro, OR-WA Metro Area  2016 (2014 data)   \n",
       "3477     Portland-Vancouver-Hillsboro, OR-WA Metro Area  2017 (2015 data)   \n",
       "3478     Portland-Vancouver-Hillsboro, OR-WA Metro Area  2018 (2016 data)   \n",
       "3479     Portland-Vancouver-Hillsboro, OR-WA Metro Area  2019 (2017 data)   \n",
       "3542       San Francisco-Oakland-Hayward, CA Metro Area  2015 (2013 data)   \n",
       "3543       San Francisco-Oakland-Hayward, CA Metro Area  2016 (2014 data)   \n",
       "3544       San Francisco-Oakland-Hayward, CA Metro Area  2017 (2015 data)   \n",
       "3545       San Francisco-Oakland-Hayward, CA Metro Area  2018 (2016 data)   \n",
       "3546       San Francisco-Oakland-Hayward, CA Metro Area  2019 (2017 data)   \n",
       "3609             Seattle-Tacoma-Bellevue, WA Metro Area  2015 (2013 data)   \n",
       "3610             Seattle-Tacoma-Bellevue, WA Metro Area  2016 (2014 data)   \n",
       "3611             Seattle-Tacoma-Bellevue, WA Metro Area  2017 (2015 data)   \n",
       "3612             Seattle-Tacoma-Bellevue, WA Metro Area  2018 (2016 data)   \n",
       "3613             Seattle-Tacoma-Bellevue, WA Metro Area  2019 (2017 data)   \n",
       "\n",
       "      Year      Value Formatted_Value Rank             Rank_Order  \\\n",
       "2872  2015  5524693.0    5,524,693.00    3  (largest to smallest)   \n",
       "2873  2016  5611829.0    5,611,829.00    3  (largest to smallest)   \n",
       "2874  2017  5709731.0    5,709,731.00    3  (largest to smallest)   \n",
       "2875  2018  5790210.0    5,790,210.00    3  (largest to smallest)   \n",
       "2876  2019  5882450.0    5,882,450.00    3  (largest to smallest)   \n",
       "2939  2015  1883051.0    1,883,051.00   12  (largest to smallest)   \n",
       "2940  2016  1943299.0    1,943,299.00   12  (largest to smallest)   \n",
       "2941  2017  2000860.0    2,000,860.00   12  (largest to smallest)   \n",
       "2942  2018  2056405.0    2,056,405.00   12  (largest to smallest)   \n",
       "2943  2019  2115827.0    2,115,827.00   12  (largest to smallest)   \n",
       "3006  2015  4684299.0    4,684,299.00    4  (largest to smallest)   \n",
       "3007  2016  4732161.0    4,732,161.00    4  (largest to smallest)   \n",
       "3008  2017  4774321.0    4,774,321.00    4  (largest to smallest)   \n",
       "3009  2018  4794447.0    4,794,447.00    4  (largest to smallest)   \n",
       "3010  2019  4836531.0    4,836,531.00    4  (largest to smallest)   \n",
       "3073  2015  2335358.0    2,335,358.00   10  (largest to smallest)   \n",
       "3074  2016  2380314.0    2,380,314.00    9  (largest to smallest)   \n",
       "3075  2017  2426363.0    2,426,363.00    9  (largest to smallest)   \n",
       "3076  2018  2474314.0    2,474,314.00    9  (largest to smallest)   \n",
       "3077  2019  2525305.0    2,525,305.00    9  (largest to smallest)   \n",
       "3140  2015  9537040.0    9,537,040.00    1  (largest to smallest)   \n",
       "3141  2016  9553810.0    9,553,810.00    1  (largest to smallest)   \n",
       "3142  2017  9550108.0    9,550,108.00    1  (largest to smallest)   \n",
       "3143  2018  9512968.0    9,512,968.00    1  (largest to smallest)   \n",
       "3144  2019  9533895.0    9,533,895.00    1  (largest to smallest)   \n",
       "3207  2015  6812373.0    6,812,373.00    2  (largest to smallest)   \n",
       "3208  2016  6954003.0    6,954,003.00    2  (largest to smallest)   \n",
       "3209  2017  7102165.0    7,102,165.00    2  (largest to smallest)   \n",
       "3210  2018  7232599.0    7,232,599.00    2  (largest to smallest)   \n",
       "3211  2019  7400479.0    7,400,479.00    2  (largest to smallest)   \n",
       "3274  2015  2697476.0    2,697,476.00    8  (largest to smallest)   \n",
       "3275  2016  2754258.0    2,754,258.00    8  (largest to smallest)   \n",
       "3276  2017  2814330.0    2,814,330.00    8  (largest to smallest)   \n",
       "3277  2018  2853077.0    2,853,077.00    8  (largest to smallest)   \n",
       "3278  2019  2888227.0    2,888,227.00    8  (largest to smallest)   \n",
       "3341  2015  3459146.0    3,459,146.00    7  (largest to smallest)   \n",
       "3342  2016  3495176.0    3,495,176.00    7  (largest to smallest)   \n",
       "3343  2017  3524583.0    3,524,583.00    7  (largest to smallest)   \n",
       "3344  2018  3551036.0    3,551,036.00    7  (largest to smallest)   \n",
       "3345  2019  3600618.0    3,600,618.00    7  (largest to smallest)   \n",
       "3408  2015  2360867.0    2,360,867.00    9  (largest to smallest)   \n",
       "3409  2016  2355968.0    2,355,968.00   10  (largest to smallest)   \n",
       "3410  2017  2353045.0    2,353,045.00   11  (largest to smallest)   \n",
       "3411  2018  2342299.0    2,342,299.00   11  (largest to smallest)   \n",
       "3412  2019  2333367.0    2,333,367.00   11  (largest to smallest)   \n",
       "3475  2015  2315089.0    2,315,089.00   11  (largest to smallest)   \n",
       "3476  2016  2347127.0    2,347,127.00   11  (largest to smallest)   \n",
       "3477  2017  2390244.0    2,390,244.00   10  (largest to smallest)   \n",
       "3478  2018  2425325.0    2,425,325.00   10  (largest to smallest)   \n",
       "3479  2019  2451560.0    2,451,560.00   10  (largest to smallest)   \n",
       "3542  2015  4516276.0    4,516,276.00    5  (largest to smallest)   \n",
       "3543  2016  4594060.0    4,594,060.00    5  (largest to smallest)   \n",
       "3544  2017  4656132.0    4,656,132.00    5  (largest to smallest)   \n",
       "3545  2018  4679166.0    4,679,166.00    5  (largest to smallest)   \n",
       "3546  2019  4727357.0    4,727,357.00    5  (largest to smallest)   \n",
       "3609  2015  3610105.0    3,610,105.00    6  (largest to smallest)   \n",
       "3610  2016  3671478.0    3,671,478.00    6  (largest to smallest)   \n",
       "3611  2017  3733580.0    3,733,580.00    6  (largest to smallest)   \n",
       "3612  2018  3798902.0    3,798,902.00    6  (largest to smallest)   \n",
       "3613  2019  3867046.0    3,867,046.00    6  (largest to smallest)   \n",
       "\n",
       "     Key_Indicator Data_Type  \n",
       "2872             0   Numeric  \n",
       "2873             0   Numeric  \n",
       "2874             0   Numeric  \n",
       "2875             0   Numeric  \n",
       "2876             0   Numeric  \n",
       "2939             0   Numeric  \n",
       "2940             0   Numeric  \n",
       "2941             0   Numeric  \n",
       "2942             0   Numeric  \n",
       "2943             0   Numeric  \n",
       "3006             0   Numeric  \n",
       "3007             0   Numeric  \n",
       "3008             0   Numeric  \n",
       "3009             0   Numeric  \n",
       "3010             0   Numeric  \n",
       "3073             0   Numeric  \n",
       "3074             0   Numeric  \n",
       "3075             0   Numeric  \n",
       "3076             0   Numeric  \n",
       "3077             0   Numeric  \n",
       "3140             0   Numeric  \n",
       "3141             0   Numeric  \n",
       "3142             0   Numeric  \n",
       "3143             0   Numeric  \n",
       "3144             0   Numeric  \n",
       "3207             0   Numeric  \n",
       "3208             0   Numeric  \n",
       "3209             0   Numeric  \n",
       "3210             0   Numeric  \n",
       "3211             0   Numeric  \n",
       "3274             0   Numeric  \n",
       "3275             0   Numeric  \n",
       "3276             0   Numeric  \n",
       "3277             0   Numeric  \n",
       "3278             0   Numeric  \n",
       "3341             0   Numeric  \n",
       "3342             0   Numeric  \n",
       "3343             0   Numeric  \n",
       "3344             0   Numeric  \n",
       "3345             0   Numeric  \n",
       "3408             0   Numeric  \n",
       "3409             0   Numeric  \n",
       "3410             0   Numeric  \n",
       "3411             0   Numeric  \n",
       "3412             0   Numeric  \n",
       "3475             0   Numeric  \n",
       "3476             0   Numeric  \n",
       "3477             0   Numeric  \n",
       "3478             0   Numeric  \n",
       "3479             0   Numeric  \n",
       "3542             0   Numeric  \n",
       "3543             0   Numeric  \n",
       "3544             0   Numeric  \n",
       "3545             0   Numeric  \n",
       "3546             0   Numeric  \n",
       "3609             0   Numeric  \n",
       "3610             0   Numeric  \n",
       "3611             0   Numeric  \n",
       "3612             0   Numeric  \n",
       "3613             0   Numeric  "
      ]
     },
     "execution_count": 30,
     "metadata": {},
     "output_type": "execute_result"
    }
   ],
   "source": [
    "output_df.loc[output_df['Rank_Order'] == '(largest to smallest)']"
   ]
  },
  {
   "cell_type": "markdown",
   "metadata": {
    "slideshow": {
     "slide_type": "notes"
    }
   },
   "source": [
    "Population, from the Vital Stats sheet of the workbook, uses a unique rank order. We are not using this variable in Tableau. It would likely have been useful only as a descriptor, explaining the rankings for a given indicator."
   ]
  },
  {
   "cell_type": "markdown",
   "metadata": {
    "slideshow": {
     "slide_type": "notes"
    }
   },
   "source": [
    "### Key Indicator indicator\n",
    "\n",
    "This calculated variable was set based on the Key Indicators pulled from the first sheet of the workbook, so it should only ever have two values (0 or 1).\n",
    "\n",
    "__There are some things we can check here:__\n",
    "1. The Key Indicators have a full complement of data (12 cities * 5 years = 60 rows). Some of the actual values can be null for these city/year combinations--that's not ideal, but it's acceptable.\n",
    "2. Since I mention it, let's see whether any of these indicators have null values associated with them. Maybe this indicator is not really \"key\" if we don't have data for all of the metro areas.\n",
    "3. We noticed that the key indicators differed slightly between the printed pamphlet and the Excel workbook. Let's list the differences. We can perform that same null check (I say this already knowing the list of differences is short)."
   ]
  },
  {
   "cell_type": "code",
   "execution_count": 31,
   "metadata": {
    "slideshow": {
     "slide_type": "skip"
    }
   },
   "outputs": [
    {
     "data": {
      "text/plain": [
       "Category           Indicator                                                                \n",
       "Business Vitality  Establishments Surviving 5 Years (State Level)                               60\n",
       "                   New Establishments (State Level)                                             60\n",
       "Economy            Employment Gap (White-Of Color)                                              60\n",
       "                   Yearly Job Growth                                                            60\n",
       "Education          3-Year Graduation Rate at 2-Year Institutions (State-Level)                  60\n",
       "                   6-Year Graduation Rate at 4-Year Institutions (State Level)                  60\n",
       "Environment        Electricity Produced From Non-Carbon Sources                                 60\n",
       "                   Energy Related Carbon Dioxide Emissions Per Capita (State Level)             60\n",
       "Infrastructure     Population Living Within 30 Minutes of 100,000 Jobs By Transit or Walking    60\n",
       "                   Population With Commutes Less Than 30 Minutes                                60\n",
       "Livability         Annual Change in Median Apartment Rent (Overall)                             60\n",
       "                   Percent of Cost-Burdened Households                                          60\n",
       "Talent             Females Aged 16-64 Years Working                                             60\n",
       "                   Net Migration Of 25-34 Year Olds                                             60\n",
       "                   Population 25+ with Bachelor's Degree or Higher                              60\n",
       "Name: Indicator, dtype: int64"
      ]
     },
     "execution_count": 31,
     "metadata": {},
     "output_type": "execute_result"
    }
   ],
   "source": [
    "# The count of each key indicator:\n",
    "output_df.loc[output_df['Key_Indicator'] == 1,\n",
    "              ['Category','Indicator']].groupby(['Category','Indicator'])['Indicator'].count()"
   ]
  },
  {
   "cell_type": "code",
   "execution_count": 32,
   "metadata": {
    "scrolled": true,
    "slideshow": {
     "slide_type": "skip"
    }
   },
   "outputs": [
    {
     "data": {
      "text/html": [
       "<div>\n",
       "<style scoped>\n",
       "    .dataframe tbody tr th:only-of-type {\n",
       "        vertical-align: middle;\n",
       "    }\n",
       "\n",
       "    .dataframe tbody tr th {\n",
       "        vertical-align: top;\n",
       "    }\n",
       "\n",
       "    .dataframe thead th {\n",
       "        text-align: right;\n",
       "    }\n",
       "</style>\n",
       "<table border=\"1\" class=\"dataframe\">\n",
       "  <thead>\n",
       "    <tr style=\"text-align: right;\">\n",
       "      <th></th>\n",
       "      <th>Category</th>\n",
       "      <th>Indicator</th>\n",
       "      <th>Metro</th>\n",
       "      <th>Year</th>\n",
       "      <th>Value</th>\n",
       "    </tr>\n",
       "  </thead>\n",
       "  <tbody>\n",
       "    <tr>\n",
       "      <th>1645</th>\n",
       "      <td>Infrastructure</td>\n",
       "      <td>Population Living Within 30 Minutes of 100,000...</td>\n",
       "      <td>Atlanta-Sandy Springs-Roswell, GA Metro Area</td>\n",
       "      <td>2015</td>\n",
       "      <td>NaN</td>\n",
       "    </tr>\n",
       "    <tr>\n",
       "      <th>1680</th>\n",
       "      <td>Infrastructure</td>\n",
       "      <td>Population Living Within 30 Minutes of 100,000...</td>\n",
       "      <td>Austin-Round Rock, TX Metro Area</td>\n",
       "      <td>2015</td>\n",
       "      <td>NaN</td>\n",
       "    </tr>\n",
       "    <tr>\n",
       "      <th>1715</th>\n",
       "      <td>Infrastructure</td>\n",
       "      <td>Population Living Within 30 Minutes of 100,000...</td>\n",
       "      <td>Boston-Cambridge-Newton, MA-NH Metro Area</td>\n",
       "      <td>2015</td>\n",
       "      <td>NaN</td>\n",
       "    </tr>\n",
       "    <tr>\n",
       "      <th>1750</th>\n",
       "      <td>Infrastructure</td>\n",
       "      <td>Population Living Within 30 Minutes of 100,000...</td>\n",
       "      <td>Charlotte-Concord-Gastonia, NC-SC Metro Area</td>\n",
       "      <td>2015</td>\n",
       "      <td>NaN</td>\n",
       "    </tr>\n",
       "    <tr>\n",
       "      <th>1785</th>\n",
       "      <td>Infrastructure</td>\n",
       "      <td>Population Living Within 30 Minutes of 100,000...</td>\n",
       "      <td>Chicago-Naperville-Elgin, IL-IN-WI Metro Area</td>\n",
       "      <td>2015</td>\n",
       "      <td>NaN</td>\n",
       "    </tr>\n",
       "    <tr>\n",
       "      <th>1820</th>\n",
       "      <td>Infrastructure</td>\n",
       "      <td>Population Living Within 30 Minutes of 100,000...</td>\n",
       "      <td>Dallas-Fort Worth-Arlington, TX Metro Area</td>\n",
       "      <td>2015</td>\n",
       "      <td>NaN</td>\n",
       "    </tr>\n",
       "    <tr>\n",
       "      <th>1855</th>\n",
       "      <td>Infrastructure</td>\n",
       "      <td>Population Living Within 30 Minutes of 100,000...</td>\n",
       "      <td>Denver-Aurora-Lakewood, CO Metro Area</td>\n",
       "      <td>2015</td>\n",
       "      <td>NaN</td>\n",
       "    </tr>\n",
       "    <tr>\n",
       "      <th>1890</th>\n",
       "      <td>Infrastructure</td>\n",
       "      <td>Population Living Within 30 Minutes of 100,000...</td>\n",
       "      <td>Minneapolis-St. Paul-Bloomington, MN-WI Metro ...</td>\n",
       "      <td>2015</td>\n",
       "      <td>NaN</td>\n",
       "    </tr>\n",
       "    <tr>\n",
       "      <th>1925</th>\n",
       "      <td>Infrastructure</td>\n",
       "      <td>Population Living Within 30 Minutes of 100,000...</td>\n",
       "      <td>Pittsburgh, PA Metro Area</td>\n",
       "      <td>2015</td>\n",
       "      <td>NaN</td>\n",
       "    </tr>\n",
       "    <tr>\n",
       "      <th>1960</th>\n",
       "      <td>Infrastructure</td>\n",
       "      <td>Population Living Within 30 Minutes of 100,000...</td>\n",
       "      <td>Portland-Vancouver-Hillsboro, OR-WA Metro Area</td>\n",
       "      <td>2015</td>\n",
       "      <td>NaN</td>\n",
       "    </tr>\n",
       "    <tr>\n",
       "      <th>1995</th>\n",
       "      <td>Infrastructure</td>\n",
       "      <td>Population Living Within 30 Minutes of 100,000...</td>\n",
       "      <td>San Francisco-Oakland-Hayward, CA Metro Area</td>\n",
       "      <td>2015</td>\n",
       "      <td>NaN</td>\n",
       "    </tr>\n",
       "    <tr>\n",
       "      <th>2030</th>\n",
       "      <td>Infrastructure</td>\n",
       "      <td>Population Living Within 30 Minutes of 100,000...</td>\n",
       "      <td>Seattle-Tacoma-Bellevue, WA Metro Area</td>\n",
       "      <td>2015</td>\n",
       "      <td>NaN</td>\n",
       "    </tr>\n",
       "    <tr>\n",
       "      <th>2215</th>\n",
       "      <td>Environment</td>\n",
       "      <td>Electricity Produced From Non-Carbon Sources</td>\n",
       "      <td>Dallas-Fort Worth-Arlington, TX Metro Area</td>\n",
       "      <td>2015</td>\n",
       "      <td>NaN</td>\n",
       "    </tr>\n",
       "    <tr>\n",
       "      <th>2216</th>\n",
       "      <td>Environment</td>\n",
       "      <td>Electricity Produced From Non-Carbon Sources</td>\n",
       "      <td>Dallas-Fort Worth-Arlington, TX Metro Area</td>\n",
       "      <td>2016</td>\n",
       "      <td>NaN</td>\n",
       "    </tr>\n",
       "    <tr>\n",
       "      <th>2217</th>\n",
       "      <td>Environment</td>\n",
       "      <td>Electricity Produced From Non-Carbon Sources</td>\n",
       "      <td>Dallas-Fort Worth-Arlington, TX Metro Area</td>\n",
       "      <td>2017</td>\n",
       "      <td>NaN</td>\n",
       "    </tr>\n",
       "    <tr>\n",
       "      <th>2218</th>\n",
       "      <td>Environment</td>\n",
       "      <td>Electricity Produced From Non-Carbon Sources</td>\n",
       "      <td>Dallas-Fort Worth-Arlington, TX Metro Area</td>\n",
       "      <td>2018</td>\n",
       "      <td>NaN</td>\n",
       "    </tr>\n",
       "    <tr>\n",
       "      <th>2219</th>\n",
       "      <td>Environment</td>\n",
       "      <td>Electricity Produced From Non-Carbon Sources</td>\n",
       "      <td>Dallas-Fort Worth-Arlington, TX Metro Area</td>\n",
       "      <td>2019</td>\n",
       "      <td>NaN</td>\n",
       "    </tr>\n",
       "    <tr>\n",
       "      <th>2425</th>\n",
       "      <td>Livability</td>\n",
       "      <td>Annual Change in Median Apartment Rent (Overall)</td>\n",
       "      <td>Atlanta-Sandy Springs-Roswell, GA Metro Area</td>\n",
       "      <td>2015</td>\n",
       "      <td>NaN</td>\n",
       "    </tr>\n",
       "    <tr>\n",
       "      <th>2460</th>\n",
       "      <td>Livability</td>\n",
       "      <td>Annual Change in Median Apartment Rent (Overall)</td>\n",
       "      <td>Austin-Round Rock, TX Metro Area</td>\n",
       "      <td>2015</td>\n",
       "      <td>NaN</td>\n",
       "    </tr>\n",
       "    <tr>\n",
       "      <th>2495</th>\n",
       "      <td>Livability</td>\n",
       "      <td>Annual Change in Median Apartment Rent (Overall)</td>\n",
       "      <td>Boston-Cambridge-Newton, MA-NH Metro Area</td>\n",
       "      <td>2015</td>\n",
       "      <td>NaN</td>\n",
       "    </tr>\n",
       "    <tr>\n",
       "      <th>2530</th>\n",
       "      <td>Livability</td>\n",
       "      <td>Annual Change in Median Apartment Rent (Overall)</td>\n",
       "      <td>Charlotte-Concord-Gastonia, NC-SC Metro Area</td>\n",
       "      <td>2015</td>\n",
       "      <td>NaN</td>\n",
       "    </tr>\n",
       "    <tr>\n",
       "      <th>2565</th>\n",
       "      <td>Livability</td>\n",
       "      <td>Annual Change in Median Apartment Rent (Overall)</td>\n",
       "      <td>Chicago-Naperville-Elgin, IL-IN-WI Metro Area</td>\n",
       "      <td>2015</td>\n",
       "      <td>NaN</td>\n",
       "    </tr>\n",
       "    <tr>\n",
       "      <th>2600</th>\n",
       "      <td>Livability</td>\n",
       "      <td>Annual Change in Median Apartment Rent (Overall)</td>\n",
       "      <td>Dallas-Fort Worth-Arlington, TX Metro Area</td>\n",
       "      <td>2015</td>\n",
       "      <td>NaN</td>\n",
       "    </tr>\n",
       "    <tr>\n",
       "      <th>2635</th>\n",
       "      <td>Livability</td>\n",
       "      <td>Annual Change in Median Apartment Rent (Overall)</td>\n",
       "      <td>Denver-Aurora-Lakewood, CO Metro Area</td>\n",
       "      <td>2015</td>\n",
       "      <td>NaN</td>\n",
       "    </tr>\n",
       "    <tr>\n",
       "      <th>2670</th>\n",
       "      <td>Livability</td>\n",
       "      <td>Annual Change in Median Apartment Rent (Overall)</td>\n",
       "      <td>Minneapolis-St. Paul-Bloomington, MN-WI Metro ...</td>\n",
       "      <td>2015</td>\n",
       "      <td>NaN</td>\n",
       "    </tr>\n",
       "    <tr>\n",
       "      <th>2705</th>\n",
       "      <td>Livability</td>\n",
       "      <td>Annual Change in Median Apartment Rent (Overall)</td>\n",
       "      <td>Pittsburgh, PA Metro Area</td>\n",
       "      <td>2015</td>\n",
       "      <td>NaN</td>\n",
       "    </tr>\n",
       "    <tr>\n",
       "      <th>2740</th>\n",
       "      <td>Livability</td>\n",
       "      <td>Annual Change in Median Apartment Rent (Overall)</td>\n",
       "      <td>Portland-Vancouver-Hillsboro, OR-WA Metro Area</td>\n",
       "      <td>2015</td>\n",
       "      <td>NaN</td>\n",
       "    </tr>\n",
       "    <tr>\n",
       "      <th>2775</th>\n",
       "      <td>Livability</td>\n",
       "      <td>Annual Change in Median Apartment Rent (Overall)</td>\n",
       "      <td>San Francisco-Oakland-Hayward, CA Metro Area</td>\n",
       "      <td>2015</td>\n",
       "      <td>NaN</td>\n",
       "    </tr>\n",
       "    <tr>\n",
       "      <th>2810</th>\n",
       "      <td>Livability</td>\n",
       "      <td>Annual Change in Median Apartment Rent (Overall)</td>\n",
       "      <td>Seattle-Tacoma-Bellevue, WA Metro Area</td>\n",
       "      <td>2015</td>\n",
       "      <td>NaN</td>\n",
       "    </tr>\n",
       "  </tbody>\n",
       "</table>\n",
       "</div>"
      ],
      "text/plain": [
       "            Category                                          Indicator  \\\n",
       "1645  Infrastructure  Population Living Within 30 Minutes of 100,000...   \n",
       "1680  Infrastructure  Population Living Within 30 Minutes of 100,000...   \n",
       "1715  Infrastructure  Population Living Within 30 Minutes of 100,000...   \n",
       "1750  Infrastructure  Population Living Within 30 Minutes of 100,000...   \n",
       "1785  Infrastructure  Population Living Within 30 Minutes of 100,000...   \n",
       "1820  Infrastructure  Population Living Within 30 Minutes of 100,000...   \n",
       "1855  Infrastructure  Population Living Within 30 Minutes of 100,000...   \n",
       "1890  Infrastructure  Population Living Within 30 Minutes of 100,000...   \n",
       "1925  Infrastructure  Population Living Within 30 Minutes of 100,000...   \n",
       "1960  Infrastructure  Population Living Within 30 Minutes of 100,000...   \n",
       "1995  Infrastructure  Population Living Within 30 Minutes of 100,000...   \n",
       "2030  Infrastructure  Population Living Within 30 Minutes of 100,000...   \n",
       "2215     Environment       Electricity Produced From Non-Carbon Sources   \n",
       "2216     Environment       Electricity Produced From Non-Carbon Sources   \n",
       "2217     Environment       Electricity Produced From Non-Carbon Sources   \n",
       "2218     Environment       Electricity Produced From Non-Carbon Sources   \n",
       "2219     Environment       Electricity Produced From Non-Carbon Sources   \n",
       "2425      Livability   Annual Change in Median Apartment Rent (Overall)   \n",
       "2460      Livability   Annual Change in Median Apartment Rent (Overall)   \n",
       "2495      Livability   Annual Change in Median Apartment Rent (Overall)   \n",
       "2530      Livability   Annual Change in Median Apartment Rent (Overall)   \n",
       "2565      Livability   Annual Change in Median Apartment Rent (Overall)   \n",
       "2600      Livability   Annual Change in Median Apartment Rent (Overall)   \n",
       "2635      Livability   Annual Change in Median Apartment Rent (Overall)   \n",
       "2670      Livability   Annual Change in Median Apartment Rent (Overall)   \n",
       "2705      Livability   Annual Change in Median Apartment Rent (Overall)   \n",
       "2740      Livability   Annual Change in Median Apartment Rent (Overall)   \n",
       "2775      Livability   Annual Change in Median Apartment Rent (Overall)   \n",
       "2810      Livability   Annual Change in Median Apartment Rent (Overall)   \n",
       "\n",
       "                                                  Metro  Year  Value  \n",
       "1645       Atlanta-Sandy Springs-Roswell, GA Metro Area  2015    NaN  \n",
       "1680                   Austin-Round Rock, TX Metro Area  2015    NaN  \n",
       "1715          Boston-Cambridge-Newton, MA-NH Metro Area  2015    NaN  \n",
       "1750       Charlotte-Concord-Gastonia, NC-SC Metro Area  2015    NaN  \n",
       "1785      Chicago-Naperville-Elgin, IL-IN-WI Metro Area  2015    NaN  \n",
       "1820         Dallas-Fort Worth-Arlington, TX Metro Area  2015    NaN  \n",
       "1855              Denver-Aurora-Lakewood, CO Metro Area  2015    NaN  \n",
       "1890  Minneapolis-St. Paul-Bloomington, MN-WI Metro ...  2015    NaN  \n",
       "1925                          Pittsburgh, PA Metro Area  2015    NaN  \n",
       "1960     Portland-Vancouver-Hillsboro, OR-WA Metro Area  2015    NaN  \n",
       "1995       San Francisco-Oakland-Hayward, CA Metro Area  2015    NaN  \n",
       "2030             Seattle-Tacoma-Bellevue, WA Metro Area  2015    NaN  \n",
       "2215         Dallas-Fort Worth-Arlington, TX Metro Area  2015    NaN  \n",
       "2216         Dallas-Fort Worth-Arlington, TX Metro Area  2016    NaN  \n",
       "2217         Dallas-Fort Worth-Arlington, TX Metro Area  2017    NaN  \n",
       "2218         Dallas-Fort Worth-Arlington, TX Metro Area  2018    NaN  \n",
       "2219         Dallas-Fort Worth-Arlington, TX Metro Area  2019    NaN  \n",
       "2425       Atlanta-Sandy Springs-Roswell, GA Metro Area  2015    NaN  \n",
       "2460                   Austin-Round Rock, TX Metro Area  2015    NaN  \n",
       "2495          Boston-Cambridge-Newton, MA-NH Metro Area  2015    NaN  \n",
       "2530       Charlotte-Concord-Gastonia, NC-SC Metro Area  2015    NaN  \n",
       "2565      Chicago-Naperville-Elgin, IL-IN-WI Metro Area  2015    NaN  \n",
       "2600         Dallas-Fort Worth-Arlington, TX Metro Area  2015    NaN  \n",
       "2635              Denver-Aurora-Lakewood, CO Metro Area  2015    NaN  \n",
       "2670  Minneapolis-St. Paul-Bloomington, MN-WI Metro ...  2015    NaN  \n",
       "2705                          Pittsburgh, PA Metro Area  2015    NaN  \n",
       "2740     Portland-Vancouver-Hillsboro, OR-WA Metro Area  2015    NaN  \n",
       "2775       San Francisco-Oakland-Hayward, CA Metro Area  2015    NaN  \n",
       "2810             Seattle-Tacoma-Bellevue, WA Metro Area  2015    NaN  "
      ]
     },
     "execution_count": 32,
     "metadata": {},
     "output_type": "execute_result"
    }
   ],
   "source": [
    "# Key Indicators with null values\n",
    "output_df.loc[(output_df['Key_Indicator'] == 1) &\n",
    "              (output_df['Value'].isnull()),['Category','Indicator','Metro','Year','Value']]"
   ]
  },
  {
   "cell_type": "markdown",
   "metadata": {
    "slideshow": {
     "slide_type": "notes"
    }
   },
   "source": [
    "#### These are listed as Key Indicators in the pamphlet, but not in the Excel workbook:\n",
    "* __Economy:__ 'Wage Gap (White-Of Color)' (percentage)\n",
    "    * _workbook has: 'Yearly Job Growth'_\n",
    "\n",
    "\n",
    "* __Talent:__ 'Population 25+ with Associate's Degree or Higher' (percentage)\n",
    "    * _workbook has two additional key indicators: 'Net Migration Of 25-34 Year Olds', 'Females Aged 16-64 Years Working'_\n",
    "\n",
    "\n",
    "* __Environment:__ 'Electricity Cost', cents/kWh\n",
    "    * _workbook has: 'Energy Related Carbon Dioxide Emissions Per Capita (State Level)'_\n"
   ]
  },
  {
   "cell_type": "code",
   "execution_count": 33,
   "metadata": {
    "slideshow": {
     "slide_type": "skip"
    }
   },
   "outputs": [],
   "source": [
    "pamphlet_kpis = ['Wage Gap (White-Of Color)',\n",
    "                 \"Population 25+ with Associate's Degree or Higher\",\n",
    "                 'Electricity Cost (Average Industrial) (Cents/kWh; Primary Metro Utility)']"
   ]
  },
  {
   "cell_type": "code",
   "execution_count": 34,
   "metadata": {
    "slideshow": {
     "slide_type": "skip"
    }
   },
   "outputs": [
    {
     "data": {
      "text/plain": [
       "Category     Indicator                                                               \n",
       "Economy      Wage Gap (White-Of Color)                                                   60\n",
       "Environment  Electricity Cost (Average Industrial) (Cents/kWh; Primary Metro Utility)    60\n",
       "Talent       Population 25+ with Associate's Degree or Higher                            60\n",
       "Name: Indicator, dtype: int64"
      ]
     },
     "execution_count": 34,
     "metadata": {},
     "output_type": "execute_result"
    }
   ],
   "source": [
    "# The count of each key indicator:\n",
    "output_df.loc[(output_df['Indicator'].isin(pamphlet_kpis)),\n",
    "              ['Category','Indicator']].groupby(['Category','Indicator'])['Indicator'].count()"
   ]
  },
  {
   "cell_type": "code",
   "execution_count": 35,
   "metadata": {
    "slideshow": {
     "slide_type": "skip"
    }
   },
   "outputs": [
    {
     "data": {
      "text/html": [
       "<div>\n",
       "<style scoped>\n",
       "    .dataframe tbody tr th:only-of-type {\n",
       "        vertical-align: middle;\n",
       "    }\n",
       "\n",
       "    .dataframe tbody tr th {\n",
       "        vertical-align: top;\n",
       "    }\n",
       "\n",
       "    .dataframe thead th {\n",
       "        text-align: right;\n",
       "    }\n",
       "</style>\n",
       "<table border=\"1\" class=\"dataframe\">\n",
       "  <thead>\n",
       "    <tr style=\"text-align: right;\">\n",
       "      <th></th>\n",
       "      <th>Category</th>\n",
       "      <th>Indicator</th>\n",
       "      <th>Metro</th>\n",
       "      <th>Year</th>\n",
       "      <th>Value</th>\n",
       "    </tr>\n",
       "  </thead>\n",
       "  <tbody>\n",
       "  </tbody>\n",
       "</table>\n",
       "</div>"
      ],
      "text/plain": [
       "Empty DataFrame\n",
       "Columns: [Category, Indicator, Metro, Year, Value]\n",
       "Index: []"
      ]
     },
     "execution_count": 35,
     "metadata": {},
     "output_type": "execute_result"
    }
   ],
   "source": [
    "# Key Indicators from the pamphlet. Any null values?\n",
    "output_df.loc[(output_df['Indicator'].isin(pamphlet_kpis)) & (output_df['Value'].isnull()),\n",
    "              ['Category','Indicator','Metro','Year','Value']]"
   ]
  },
  {
   "cell_type": "markdown",
   "metadata": {
    "slideshow": {
     "slide_type": "notes"
    }
   },
   "source": [
    "## Looks good! Write a CSV file."
   ]
  },
  {
   "cell_type": "code",
   "execution_count": 36,
   "metadata": {
    "slideshow": {
     "slide_type": "skip"
    }
   },
   "outputs": [],
   "source": [
    "output_df.to_csv(file_path + '/greater_msp_data.csv',index=False)"
   ]
  }
 ],
 "metadata": {
  "celltoolbar": "Slideshow",
  "kernelspec": {
   "display_name": "Python 3",
   "language": "python",
   "name": "python3"
  },
  "language_info": {
   "codemirror_mode": {
    "name": "ipython",
    "version": 3
   },
   "file_extension": ".py",
   "mimetype": "text/x-python",
   "name": "python",
   "nbconvert_exporter": "python",
   "pygments_lexer": "ipython3",
   "version": "3.7.5"
  }
 },
 "nbformat": 4,
 "nbformat_minor": 2
}
