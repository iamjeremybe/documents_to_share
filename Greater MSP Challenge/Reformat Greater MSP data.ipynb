{
 "cells": [
  {
   "cell_type": "code",
   "execution_count": 196,
   "metadata": {},
   "outputs": [],
   "source": [
    "import numpy as np\n",
    "import pandas as pd"
   ]
  },
  {
   "cell_type": "markdown",
   "metadata": {},
   "source": [
    "# Reformatting Greater MSP data\n",
    "\n",
    "We were given an Excel workbook with multiple sheets. We can read in the Excel file, reformat the data in a friendlier format, and export it as a CSV for use in Tableau.\n"
   ]
  },
  {
   "cell_type": "code",
   "execution_count": 197,
   "metadata": {},
   "outputs": [],
   "source": [
    "file_path = '/home/jeremy/Documents/Greater MSP Challenge'\n",
    "file_name = file_path + '/Historical Data - Prior Dashboard - Color Guides/2015-2019 Dashboard Trends_all.xlsx'"
   ]
  },
  {
   "cell_type": "code",
   "execution_count": 198,
   "metadata": {},
   "outputs": [],
   "source": [
    "dfs = pd.read_excel(file_name, sheet_name=None, header=None)"
   ]
  },
  {
   "cell_type": "markdown",
   "metadata": {},
   "source": [
    "### Each sheet of the Excel workbook is represented by a key/value pair in dfs:"
   ]
  },
  {
   "cell_type": "code",
   "execution_count": 199,
   "metadata": {},
   "outputs": [
    {
     "data": {
      "text/plain": [
       "dict_keys(['Key Indicators', 'Economy', 'BV', 'Talent', 'Education', 'Infrastructure', 'Environment', 'Livability', 'Vital Stats'])"
      ]
     },
     "execution_count": 199,
     "metadata": {},
     "output_type": "execute_result"
    }
   ],
   "source": [
    "dfs.keys()"
   ]
  },
  {
   "cell_type": "markdown",
   "metadata": {},
   "source": [
    "## Capturing Key Indicators from the first sheet\n",
    "It also has an extra row, \"Dashboard Category\", that does not exist in the other sheets. This extra row tells us which sheet the indicators are coming from.\n",
    "\n",
    "The stats on the Key Indicators sheet are doubled up on the other sheets, so we don't need to capture them. The important info to capture is which indicators are listed, so when we get to the individual sheets, we know which indicators are key indicators.\n",
    "\n",
    "The remaining sheets represent the data behind each set of stats on the Key Indicators sheet, and additional indicators. They seem to have the same structure, so looping through them will be easier."
   ]
  },
  {
   "cell_type": "code",
   "execution_count": 200,
   "metadata": {
    "scrolled": true
   },
   "outputs": [
    {
     "data": {
      "text/html": [
       "<div>\n",
       "<style scoped>\n",
       "    .dataframe tbody tr th:only-of-type {\n",
       "        vertical-align: middle;\n",
       "    }\n",
       "\n",
       "    .dataframe tbody tr th {\n",
       "        vertical-align: top;\n",
       "    }\n",
       "\n",
       "    .dataframe thead th {\n",
       "        text-align: right;\n",
       "    }\n",
       "</style>\n",
       "<table border=\"1\" class=\"dataframe\">\n",
       "  <thead>\n",
       "    <tr style=\"text-align: right;\">\n",
       "      <th></th>\n",
       "      <th>0</th>\n",
       "      <th>1</th>\n",
       "      <th>2</th>\n",
       "      <th>3</th>\n",
       "      <th>4</th>\n",
       "      <th>5</th>\n",
       "      <th>6</th>\n",
       "      <th>7</th>\n",
       "      <th>8</th>\n",
       "      <th>9</th>\n",
       "      <th>...</th>\n",
       "      <th>66</th>\n",
       "      <th>67</th>\n",
       "      <th>68</th>\n",
       "      <th>69</th>\n",
       "      <th>70</th>\n",
       "      <th>71</th>\n",
       "      <th>72</th>\n",
       "      <th>73</th>\n",
       "      <th>74</th>\n",
       "      <th>75</th>\n",
       "    </tr>\n",
       "  </thead>\n",
       "  <tbody>\n",
       "    <tr>\n",
       "      <th>3</th>\n",
       "      <td>Dashboard Category</td>\n",
       "      <td>Economy</td>\n",
       "      <td>NaN</td>\n",
       "      <td>NaN</td>\n",
       "      <td>NaN</td>\n",
       "      <td>NaN</td>\n",
       "      <td>Economy</td>\n",
       "      <td>NaN</td>\n",
       "      <td>NaN</td>\n",
       "      <td>NaN</td>\n",
       "      <td>...</td>\n",
       "      <td>Livability</td>\n",
       "      <td>NaN</td>\n",
       "      <td>NaN</td>\n",
       "      <td>NaN</td>\n",
       "      <td>NaN</td>\n",
       "      <td>Livability</td>\n",
       "      <td>NaN</td>\n",
       "      <td>NaN</td>\n",
       "      <td>NaN</td>\n",
       "      <td>NaN</td>\n",
       "    </tr>\n",
       "    <tr>\n",
       "      <th>4</th>\n",
       "      <td>Indicator Title</td>\n",
       "      <td>Yearly Job Growth</td>\n",
       "      <td>NaN</td>\n",
       "      <td>NaN</td>\n",
       "      <td>NaN</td>\n",
       "      <td>NaN</td>\n",
       "      <td>Employment Gap (White-Of Color)</td>\n",
       "      <td>NaN</td>\n",
       "      <td>NaN</td>\n",
       "      <td>NaN</td>\n",
       "      <td>...</td>\n",
       "      <td>Percent of Cost-Burdened Households</td>\n",
       "      <td>NaN</td>\n",
       "      <td>NaN</td>\n",
       "      <td>NaN</td>\n",
       "      <td>NaN</td>\n",
       "      <td>Annual Change in Median Apartment Rent (Overall)</td>\n",
       "      <td>NaN</td>\n",
       "      <td>NaN</td>\n",
       "      <td>NaN</td>\n",
       "      <td>NaN</td>\n",
       "    </tr>\n",
       "  </tbody>\n",
       "</table>\n",
       "<p>2 rows × 76 columns</p>\n",
       "</div>"
      ],
      "text/plain": [
       "                   0                  1    2    3    4    5   \\\n",
       "3  Dashboard Category            Economy  NaN  NaN  NaN  NaN   \n",
       "4     Indicator Title  Yearly Job Growth  NaN  NaN  NaN  NaN   \n",
       "\n",
       "                                6    7    8    9   ...  \\\n",
       "3                          Economy  NaN  NaN  NaN  ...   \n",
       "4  Employment Gap (White-Of Color)  NaN  NaN  NaN  ...   \n",
       "\n",
       "                                    66   67   68   69   70  \\\n",
       "3                           Livability  NaN  NaN  NaN  NaN   \n",
       "4  Percent of Cost-Burdened Households  NaN  NaN  NaN  NaN   \n",
       "\n",
       "                                                 71   72   73   74   75  \n",
       "3                                        Livability  NaN  NaN  NaN  NaN  \n",
       "4  Annual Change in Median Apartment Rent (Overall)  NaN  NaN  NaN  NaN  \n",
       "\n",
       "[2 rows x 76 columns]"
      ]
     },
     "execution_count": 200,
     "metadata": {},
     "output_type": "execute_result"
    }
   ],
   "source": [
    "dfs['Key Indicators'].loc[[3,4]]"
   ]
  },
  {
   "cell_type": "code",
   "execution_count": 201,
   "metadata": {
    "scrolled": true
   },
   "outputs": [
    {
     "data": {
      "text/html": [
       "<div>\n",
       "<style scoped>\n",
       "    .dataframe tbody tr th:only-of-type {\n",
       "        vertical-align: middle;\n",
       "    }\n",
       "\n",
       "    .dataframe tbody tr th {\n",
       "        vertical-align: top;\n",
       "    }\n",
       "\n",
       "    .dataframe thead th {\n",
       "        text-align: right;\n",
       "    }\n",
       "</style>\n",
       "<table border=\"1\" class=\"dataframe\">\n",
       "  <thead>\n",
       "    <tr style=\"text-align: right;\">\n",
       "      <th></th>\n",
       "      <th>0</th>\n",
       "      <th>1</th>\n",
       "      <th>6</th>\n",
       "      <th>11</th>\n",
       "      <th>16</th>\n",
       "      <th>21</th>\n",
       "      <th>26</th>\n",
       "      <th>31</th>\n",
       "      <th>36</th>\n",
       "      <th>41</th>\n",
       "      <th>46</th>\n",
       "      <th>51</th>\n",
       "      <th>56</th>\n",
       "      <th>61</th>\n",
       "      <th>66</th>\n",
       "      <th>71</th>\n",
       "    </tr>\n",
       "  </thead>\n",
       "  <tbody>\n",
       "    <tr>\n",
       "      <th>3</th>\n",
       "      <td>Dashboard Category</td>\n",
       "      <td>Economy</td>\n",
       "      <td>Economy</td>\n",
       "      <td>Business Vitality</td>\n",
       "      <td>Business Vitality</td>\n",
       "      <td>Talent</td>\n",
       "      <td>Talent</td>\n",
       "      <td>Talent</td>\n",
       "      <td>Education</td>\n",
       "      <td>Education</td>\n",
       "      <td>Infrastructure</td>\n",
       "      <td>Infrastructure</td>\n",
       "      <td>Environment</td>\n",
       "      <td>Environment</td>\n",
       "      <td>Livability</td>\n",
       "      <td>Livability</td>\n",
       "    </tr>\n",
       "    <tr>\n",
       "      <th>4</th>\n",
       "      <td>Indicator Title</td>\n",
       "      <td>Yearly Job Growth</td>\n",
       "      <td>Employment Gap (White-Of Color)</td>\n",
       "      <td>New Establishments (State Level)</td>\n",
       "      <td>Establishments Surviving 5 Years (State Level)</td>\n",
       "      <td>Net Migration Of 25-34 Year Olds</td>\n",
       "      <td>Females Aged 16-64 Years Working</td>\n",
       "      <td>Population 25+ with Bachelor's Degree or Higher</td>\n",
       "      <td>3-Year Graduation Rate at 2-Year Institutions ...</td>\n",
       "      <td>6-Year Graduation Rate at 4-Year Institutions ...</td>\n",
       "      <td>Population Living Within 30 Minutes of 100,000...</td>\n",
       "      <td>Population With Commutes Less Than 30 Minutes</td>\n",
       "      <td>Energy Related Carbon Dioxide Emissions Per Ca...</td>\n",
       "      <td>Electricity Produced From Non-Carbon Sources</td>\n",
       "      <td>Percent of Cost-Burdened Households</td>\n",
       "      <td>Annual Change in Median Apartment Rent (Overall)</td>\n",
       "    </tr>\n",
       "  </tbody>\n",
       "</table>\n",
       "</div>"
      ],
      "text/plain": [
       "                   0                  1                                6   \\\n",
       "3  Dashboard Category            Economy                          Economy   \n",
       "4     Indicator Title  Yearly Job Growth  Employment Gap (White-Of Color)   \n",
       "\n",
       "                                 11  \\\n",
       "3                 Business Vitality   \n",
       "4  New Establishments (State Level)   \n",
       "\n",
       "                                               16  \\\n",
       "3                               Business Vitality   \n",
       "4  Establishments Surviving 5 Years (State Level)   \n",
       "\n",
       "                                 21                                26  \\\n",
       "3                            Talent                            Talent   \n",
       "4  Net Migration Of 25-34 Year Olds  Females Aged 16-64 Years Working   \n",
       "\n",
       "                                                31  \\\n",
       "3                                           Talent   \n",
       "4  Population 25+ with Bachelor's Degree or Higher   \n",
       "\n",
       "                                                  36  \\\n",
       "3                                          Education   \n",
       "4  3-Year Graduation Rate at 2-Year Institutions ...   \n",
       "\n",
       "                                                  41  \\\n",
       "3                                          Education   \n",
       "4  6-Year Graduation Rate at 4-Year Institutions ...   \n",
       "\n",
       "                                                  46  \\\n",
       "3                                     Infrastructure   \n",
       "4  Population Living Within 30 Minutes of 100,000...   \n",
       "\n",
       "                                              51  \\\n",
       "3                                 Infrastructure   \n",
       "4  Population With Commutes Less Than 30 Minutes   \n",
       "\n",
       "                                                  56  \\\n",
       "3                                        Environment   \n",
       "4  Energy Related Carbon Dioxide Emissions Per Ca...   \n",
       "\n",
       "                                             61  \\\n",
       "3                                   Environment   \n",
       "4  Electricity Produced From Non-Carbon Sources   \n",
       "\n",
       "                                    66  \\\n",
       "3                           Livability   \n",
       "4  Percent of Cost-Burdened Households   \n",
       "\n",
       "                                                 71  \n",
       "3                                        Livability  \n",
       "4  Annual Change in Median Apartment Rent (Overall)  "
      ]
     },
     "execution_count": 201,
     "metadata": {},
     "output_type": "execute_result"
    }
   ],
   "source": [
    "kpis = dfs['Key Indicators'].loc[[3,4]].dropna(axis='columns')\n",
    "kpis"
   ]
  },
  {
   "cell_type": "markdown",
   "metadata": {},
   "source": [
    "### Create a dictionary for Key Performance Indicators\n",
    "Capture the Dashboard Category and Indicator Title of each indicator. We'll use this later to set a value indicating whether or not an indicator is a KPI."
   ]
  },
  {
   "cell_type": "code",
   "execution_count": 202,
   "metadata": {},
   "outputs": [
    {
     "data": {
      "text/plain": [
       "{'Economy': ['Yearly Job Growth', 'Employment Gap (White-Of Color)'],\n",
       " 'Business Vitality': ['New Establishments (State Level)',\n",
       "  'Establishments Surviving 5 Years (State Level)'],\n",
       " 'Talent': ['Net Migration Of 25-34 Year Olds',\n",
       "  'Females Aged 16-64 Years Working',\n",
       "  \"Population 25+ with Bachelor's Degree or Higher\"],\n",
       " 'Education': ['3-Year Graduation Rate at 2-Year Institutions (State-Level)',\n",
       "  '6-Year Graduation Rate at 4-Year Institutions (State Level)'],\n",
       " 'Infrastructure': ['Population Living Within 30 Minutes of 100,000 Jobs By Transit or Walking',\n",
       "  'Population With Commutes Less Than 30 Minutes'],\n",
       " 'Environment': ['Energy Related Carbon Dioxide Emissions Per Capita (State Level)',\n",
       "  'Electricity Produced From Non-Carbon Sources'],\n",
       " 'Livability': ['Percent of Cost-Burdened Households',\n",
       "  'Annual Change in Median Apartment Rent (Overall)']}"
      ]
     },
     "execution_count": 202,
     "metadata": {},
     "output_type": "execute_result"
    }
   ],
   "source": [
    "kpi_dict = {}\n",
    "for col in kpis.columns:\n",
    "    if col == 0:\n",
    "        continue\n",
    "    category = kpis[col].iloc[0]\n",
    "    indicator = kpis[col].iloc[1]\n",
    "    if category in kpi_dict:\n",
    "        kpi_dict[category].append(indicator)\n",
    "    else:\n",
    "        kpi_dict[category] = [indicator]\n",
    "\n",
    "kpi_dict"
   ]
  },
  {
   "cell_type": "markdown",
   "metadata": {},
   "source": [
    "### NOTE: The key indicators on the first sheet of the Excel document don't always line up with the key indicators in the pamphlet."
   ]
  },
  {
   "cell_type": "markdown",
   "metadata": {},
   "source": [
    "## For the remaining sheets:\n",
    "### Value in first row/first column is the sheet name/key indicator name (ex: \"Economy\")\n",
    "\n",
    "### First two rows are headers:\n",
    "1. Indicator (ex: Gross Regional Product Growth). This is only populated when it changes, NaN otherwise.\n",
    "2. \"ESTIMATES\". This is the year for each Indicator, mostly represented as '4-digit year\\n(year of data)'.\n",
    "\n",
    "### Cities show up twice on each sheet--first time with the observation, second time with the rank.\n",
    "There's a \"RANK\" row separating the two. This row indicates whether the ranking is \"highest to lowest\", or \"lowest to highest\". Capture this."
   ]
  },
  {
   "cell_type": "markdown",
   "metadata": {},
   "source": [
    "## Functions"
   ]
  },
  {
   "cell_type": "markdown",
   "metadata": {},
   "source": [
    "### The year field often has an appended text string, indicating the actual date ranges involved.\n",
    "Strip that extra text, if necessary."
   ]
  },
  {
   "cell_type": "code",
   "execution_count": 203,
   "metadata": {},
   "outputs": [],
   "source": [
    "def cleanup_year(string,**kwargs):\n",
    "    desc_or_year = kwargs.get('desc_or_year','year')\n",
    "    if desc_or_year == 'year':\n",
    "        try:\n",
    "    # split will fail when the value is a lone year (ex: 2015 vs. \"2015\\n(using 13-14 data)\")\n",
    "    # because the lone year is interpreted as an int. Rather than convert that to a string,\n",
    "    # just return it.\n",
    "            return string.split()[0]\n",
    "        except:\n",
    "            return string\n",
    "        else:\n",
    "            return string\n",
    "    else:\n",
    "        return \" \".join(str(string).split())"
   ]
  },
  {
   "cell_type": "markdown",
   "metadata": {},
   "source": [
    "### Set the Key Indicator to 1 for key indicators."
   ]
  },
  {
   "cell_type": "code",
   "execution_count": 204,
   "metadata": {},
   "outputs": [],
   "source": [
    "def set_key_indc(category,indicator,**kwargs):\n",
    "    my_kpi_dict = kwargs.get('kpi_dict',kpi_dict)\n",
    "    if category in my_kpi_dict:\n",
    "        if indicator in kpi_dict[category]:\n",
    "            return 1\n",
    "    return 0  "
   ]
  },
  {
   "cell_type": "markdown",
   "metadata": {},
   "source": [
    "### Replicate the Alteryx logic for deciding Data Type:\n",
    "```\n",
    "if abs([Measure Value]) <=1 then 'Percent'\n",
    "elseif Contains([Indicator Title], 'Cost') then 'Dollar'\n",
    "elseif Contains([Indicator Title], 'Wage') then 'Dollar'\n",
    "elseif Contains([Indicator Title], 'Income') then 'Dollar'\n",
    "elseif Contains([Indicator Title], 'Price') then 'Dollar'\n",
    "elseif [Dashboard Category] = 'Business Vitality' \n",
    "\tAND !(Contains([Indicator Title], 'Patent')\n",
    "\tor Contains([Indicator Title], 'Establishment'))\n",
    "\tthen 'Dollar'\n",
    "else 'Numeric'\n",
    "endif \n",
    "```"
   ]
  },
  {
   "cell_type": "code",
   "execution_count": 205,
   "metadata": {},
   "outputs": [],
   "source": [
    "# This is where we implement Dave's logic from Alteryx.\n",
    "def calculate_data_type(series):\n",
    "    if series['Value'] <=1:\n",
    "        return 'Percent'\n",
    "    elif any(x in series['Indicator'].lower() for x in ['cost','wage','income','price']):\n",
    "        return 'Dollar'\n",
    "    elif (series['Category'] == 'Business Vitality') \\\n",
    "         and not any(x in series['Indicator'].lower() for x in ['patent','establishment']):\n",
    "        return 'Dollar'\n",
    "    else:\n",
    "        return \"Numeric\""
   ]
  },
  {
   "cell_type": "markdown",
   "metadata": {},
   "source": [
    "### Figure out the type of value for each category/indicator.\n",
    "* Build a small dataframe of unique combos of Category + Indicator, and the max Value for each combo. (I checked--max() ignores NaNs.)\n",
    "* Convert that dataframe into a dictionary containing Indicator/Data Type pairs."
   ]
  },
  {
   "cell_type": "code",
   "execution_count": 206,
   "metadata": {},
   "outputs": [],
   "source": [
    "def build_data_type_df(df):\n",
    "    this_category = df['Category'].unique()[0]\n",
    "    df_cat = df.loc[df['Category'] == this_category]\n",
    "# There is something funky about these two sheets--the .groupby() doesn't behave the same way.\n",
    "# I found that if I drop category, it works better.\n",
    "    if this_category in ['Environment','Livability']:\n",
    "        max_df = pd.DataFrame()\n",
    "        for this_indicator in df_cat['Indicator'].unique():\n",
    "            indicator_data_df = df_cat.loc[df['Indicator'] == this_indicator,['Indicator','Value']]\n",
    "            append_df = indicator_data_df.loc[:,['Indicator','Value']].groupby(['Indicator']).max().reset_index()\n",
    "            max_df = max_df.append(append_df,ignore_index=True)\n",
    "# Add back the dropped Category column, so calculate_data_type() works.\n",
    "        max_df['Category'] = [this_category] * max_df.shape[0]\n",
    "    else:\n",
    "        max_df = df.loc[:,['Category','Indicator','Value']].groupby(['Category','Indicator']).max().reset_index()\n",
    "    max_df['Value'] = max_df['Value'].apply(lambda x: abs(x))\n",
    "    max_df['Data_Type'] = max_df.apply(lambda row: calculate_data_type(row),axis='columns')\n",
    "\n",
    "# Prep the dataframe so it can be easily transformed into a dictionary\n",
    "    max_df.drop(columns=['Category','Value'],inplace=True)\n",
    "\n",
    "    data_type_df = max_df.set_index(['Indicator']).to_dict('index')\n",
    "# I couldn't find a parameter for .to_dict() that gave me exactly what I wanted--\n",
    "# namely, a dict where key is Indicator, value is Data Type.\n",
    "# So build a new dict that has this format, and extract what we need from data_type_df.\n",
    "    return_dict = {}\n",
    "    for this_key in data_type_df:\n",
    "        return_dict[this_key] = data_type_df[this_key]['Data_Type']\n",
    "    return return_dict"
   ]
  },
  {
   "cell_type": "markdown",
   "metadata": {},
   "source": [
    "### Create a formatted value, based on data type\n",
    "* Dollar:\n",
    "     * leading \\$ sign\n",
    "     * commas between thousands\n",
    "     * padding to 2 decimal places if underlying data contains decimal\n",
    "\n",
    "* Numeric:\n",
    "    * commas between thousands\n",
    "    * padding to 2 decimal places if underlying data contains decimal\n",
    "\n",
    "* Percent:\n",
    "    * padding to 2 decimal places\n",
    "    * trailing % sign\n",
    "\n",
    "* KEEP negative (-) signs "
   ]
  },
  {
   "cell_type": "code",
   "execution_count": 207,
   "metadata": {},
   "outputs": [],
   "source": [
    "def calculate_formatted_value(series):\n",
    "# Capture nulls, empty strings, 'no data' straight away and return those values with no formatting.\n",
    "    if pd.isnull(series['Value']) or series['Value'] == '' or series['Value'] == 'no data':\n",
    "        return series['Value']\n",
    "\n",
    "    elif series['Data_Type'] == 'Percent':\n",
    "        try:\n",
    "            return \"{:.2%}\".format(series['Value'])\n",
    "        except:\n",
    "            print(\"This is supposed to be a Percent, but it's not:\",series['Value'])\n",
    "            return series['Value']\n",
    "\n",
    "    elif series['Data_Type'] == 'Dollar':\n",
    "        try:\n",
    "            if str(abs(series['Value'])).isdigit():\n",
    "                return \"${:,}\".format(series['Value'])\n",
    "            else:\n",
    "                return \"${:,.2f}\".format(series['Value'])\n",
    "        except:\n",
    "            print(\"This is supposed to be Dollar value, but it's not:\",series['Value'])\n",
    "            return series['Value']\n",
    "\n",
    "    elif series['Data_Type'] == 'Numeric':\n",
    "        try:\n",
    "            if str(abs(series['Value'])).isdigit():\n",
    "                return \"{:,}\".format(series['Value'])\n",
    "            else:\n",
    "                return \"{:,.2f}\".format(series['Value'])\n",
    "        except:\n",
    "            print(\"This is supposed to be Numeric, but it's not:\",series['Value'])\n",
    "            return series['Value']\n",
    "    else:\n",
    "# Thankfully didn't see any instances of an unknown Data Type, but we'll need a catch-all.\n",
    "        print(\"UNKNOWN value type\", series)\n",
    "    return series['Value']"
   ]
  },
  {
   "cell_type": "markdown",
   "metadata": {},
   "source": [
    "## Restructure the data for each sheet.\n",
    "### Each row of the data should have the following columns:\n",
    "1. Category\n",
    "2. Indicator\n",
    "3. Metro area\n",
    "4. Year description (as taken from sheet)\n",
    "5. Year (integer value only)\n",
    "6. Value\n",
    "7. Rank\n",
    "8. Rank Order\n",
    "9. Key Indicator\n",
    "10. Data Type (type of Value; one of: 'Percent','Dollar','Numeric')\n",
    "11. Formatted Value (based on Data Type)"
   ]
  },
  {
   "cell_type": "code",
   "execution_count": 208,
   "metadata": {},
   "outputs": [],
   "source": [
    "def reshape_indicator_sheet(df):\n",
    "    out_df_columns = ['Category','Indicator','Metro','Year_Desc','Year',\n",
    "                      'Value','Formatted_Value','Rank','Rank_Order','Key_Indicator','Data_Type']\n",
    "    out_df = pd.DataFrame(columns=out_df_columns)\n",
    "# Cast the type of the numeric columns, so we can run some basic calculations and set 'Data Type'\n",
    "#    out_df = out_df.astype({'Year': 'Int64', 'Value': 'float', 'Rank': 'Int64', 'Key_Indicator': 'Int64'})\n",
    "\n",
    "# Capture the index of the RANK row.\n",
    "# This will help us split the sheet into its values vs. rank halves.\n",
    "    rank_index = np.where(df[0] == 'RANK')[0][0]\n",
    "    indicators_sheet = df.iloc[0:rank_index].copy()\n",
    "    rank_sheet = df.iloc[rank_index:].copy()\n",
    "\n",
    "# Loop through each city, snag its values and rank info, drop them into the correct columns\n",
    "    for metro in indicators_sheet[0][3:]:\n",
    "        city_df = pd.DataFrame(columns=out_df_columns)\n",
    "        city_category = indicators_sheet.loc[[0]].values[0][0].strip()\n",
    "\n",
    "# This will fill 'Category' with nulls, but it gives the dataframe the correct length.\n",
    "# Then, fill it with the actual category name.\n",
    "        city_df['Category'] = indicators_sheet.loc[[0]].values[0][1:]\n",
    "        city_df['Category'].fillna(value=city_category,inplace=True)\n",
    "\n",
    "# Indicator has some values populated, so we can use 'pad' to copy them forward to null rows.\n",
    "        city_df['Indicator'] = indicators_sheet.loc[[1]].values[0][1:]\n",
    "        city_df['Indicator'].fillna(method='pad',inplace=True)\n",
    "        city_df['Indicator'] = city_df['Indicator'].apply(lambda x: x.strip())\n",
    "        \n",
    "# If we find Indicator in the KPI dictionary under this Category, this is a Key Indicator\n",
    "        city_df['Key_Indicator'] = city_df.apply(lambda row: set_key_indc(row['Category'],row['Indicator']),\n",
    "                                                 axis='columns')\n",
    "\n",
    "        city_df['Year_Desc'] = indicators_sheet.iloc[2].values[1:]\n",
    "        city_df['Year_Desc'] = city_df['Year_Desc'].apply(lambda x: cleanup_year(x,desc_or_year='desc'))\n",
    "        city_df['Year'] = city_df['Year_Desc'].apply(lambda x: cleanup_year(x))\n",
    "\n",
    "        indc_metro_value = np.where(indicators_sheet[0] == metro)[0][0]\n",
    "        city_df['Metro'] = [metro] * city_df.shape[0]\n",
    "        city_values = indicators_sheet.iloc[indc_metro_value].values[1:]\n",
    "        city_df['Value'] = city_values\n",
    "        city_df\n",
    "\n",
    "# Find the index for our current Metro in the rank half of the sheet, and get Rank-related values.\n",
    "        rank_metro_value = np.where(rank_sheet[0] == metro)[0][0]\n",
    "        city_df['Rank'] = rank_sheet.iloc[rank_metro_value].values[1:]\n",
    "        city_df['Rank_Order'] = rank_sheet.iloc[[0]].values[0][1:]\n",
    "        city_df['Rank_Order'].fillna(method='pad',inplace=True)\n",
    "\n",
    "# We're done with this city. Append its stats to the big spreadsheet.\n",
    "        out_df = out_df.append(city_df,ignore_index=True)\n",
    "\n",
    "    data_type_dict = build_data_type_df(out_df)\n",
    "    out_df.loc[:,'Data_Type'] = out_df['Indicator'].apply(lambda x: data_type_dict[x])\n",
    "    out_df.loc[:,'Formatted_Value'] = out_df.apply(lambda row: calculate_formatted_value(row),axis='columns')\n",
    "    return out_df"
   ]
  },
  {
   "cell_type": "markdown",
   "metadata": {},
   "source": [
    "## Concatenate the restructured output from all of the sheets (minus Key Indicator)"
   ]
  },
  {
   "cell_type": "code",
   "execution_count": 209,
   "metadata": {},
   "outputs": [],
   "source": [
    "output_df = pd.DataFrame()\n",
    "for sheet_key in dfs.keys():\n",
    "    if sheet_key == 'Key Indicators':\n",
    "        continue\n",
    "    output_df = output_df.append(reshape_indicator_sheet(dfs[sheet_key]),ignore_index=True)"
   ]
  },
  {
   "cell_type": "code",
   "execution_count": 210,
   "metadata": {},
   "outputs": [
    {
     "data": {
      "text/plain": [
       "Percent    2364\n",
       "Numeric     912\n",
       "Dollar      420\n",
       "Name: Data_Type, dtype: int64"
      ]
     },
     "execution_count": 210,
     "metadata": {},
     "output_type": "execute_result"
    }
   ],
   "source": [
    "output_df['Data_Type'].value_counts()"
   ]
  },
  {
   "cell_type": "code",
   "execution_count": 211,
   "metadata": {
    "scrolled": true
   },
   "outputs": [
    {
     "data": {
      "text/html": [
       "<div>\n",
       "<style scoped>\n",
       "    .dataframe tbody tr th:only-of-type {\n",
       "        vertical-align: middle;\n",
       "    }\n",
       "\n",
       "    .dataframe tbody tr th {\n",
       "        vertical-align: top;\n",
       "    }\n",
       "\n",
       "    .dataframe thead th {\n",
       "        text-align: right;\n",
       "    }\n",
       "</style>\n",
       "<table border=\"1\" class=\"dataframe\">\n",
       "  <thead>\n",
       "    <tr style=\"text-align: right;\">\n",
       "      <th></th>\n",
       "      <th>Category</th>\n",
       "      <th>Indicator</th>\n",
       "      <th>Metro</th>\n",
       "      <th>Year_Desc</th>\n",
       "      <th>Year</th>\n",
       "      <th>Value</th>\n",
       "      <th>Formatted_Value</th>\n",
       "      <th>Rank</th>\n",
       "      <th>Rank_Order</th>\n",
       "      <th>Key_Indicator</th>\n",
       "      <th>Data_Type</th>\n",
       "    </tr>\n",
       "  </thead>\n",
       "  <tbody>\n",
       "    <tr>\n",
       "      <th>count</th>\n",
       "      <td>3696</td>\n",
       "      <td>3696</td>\n",
       "      <td>3696</td>\n",
       "      <td>3696</td>\n",
       "      <td>3696</td>\n",
       "      <td>2954</td>\n",
       "      <td>2954</td>\n",
       "      <td>2898</td>\n",
       "      <td>3276</td>\n",
       "      <td>3696</td>\n",
       "      <td>3696</td>\n",
       "    </tr>\n",
       "    <tr>\n",
       "      <th>unique</th>\n",
       "      <td>8</td>\n",
       "      <td>60</td>\n",
       "      <td>12</td>\n",
       "      <td>46</td>\n",
       "      <td>11</td>\n",
       "      <td>2123</td>\n",
       "      <td>1996</td>\n",
       "      <td>12</td>\n",
       "      <td>3</td>\n",
       "      <td>2</td>\n",
       "      <td>3</td>\n",
       "    </tr>\n",
       "    <tr>\n",
       "      <th>top</th>\n",
       "      <td>Vital Stats</td>\n",
       "      <td>Population With Commutes Less Than 30 Minutes</td>\n",
       "      <td>Charlotte-Concord-Gastonia, NC-SC Metro Area</td>\n",
       "      <td>2019 (2017 data)</td>\n",
       "      <td>2015</td>\n",
       "      <td>0</td>\n",
       "      <td>0.00%</td>\n",
       "      <td>1</td>\n",
       "      <td>(highest to lowest)</td>\n",
       "      <td>0</td>\n",
       "      <td>Percent</td>\n",
       "    </tr>\n",
       "    <tr>\n",
       "      <th>freq</th>\n",
       "      <td>804</td>\n",
       "      <td>132</td>\n",
       "      <td>308</td>\n",
       "      <td>288</td>\n",
       "      <td>720</td>\n",
       "      <td>22</td>\n",
       "      <td>21</td>\n",
       "      <td>261</td>\n",
       "      <td>2124</td>\n",
       "      <td>2724</td>\n",
       "      <td>2364</td>\n",
       "    </tr>\n",
       "  </tbody>\n",
       "</table>\n",
       "</div>"
      ],
      "text/plain": [
       "           Category                                      Indicator  \\\n",
       "count          3696                                           3696   \n",
       "unique            8                                             60   \n",
       "top     Vital Stats  Population With Commutes Less Than 30 Minutes   \n",
       "freq            804                                            132   \n",
       "\n",
       "                                               Metro         Year_Desc  Year  \\\n",
       "count                                           3696              3696  3696   \n",
       "unique                                            12                46    11   \n",
       "top     Charlotte-Concord-Gastonia, NC-SC Metro Area  2019 (2017 data)  2015   \n",
       "freq                                             308               288   720   \n",
       "\n",
       "        Value Formatted_Value  Rank           Rank_Order  Key_Indicator  \\\n",
       "count    2954            2954  2898                 3276           3696   \n",
       "unique   2123            1996    12                    3              2   \n",
       "top         0           0.00%     1  (highest to lowest)              0   \n",
       "freq       22              21   261                 2124           2724   \n",
       "\n",
       "       Data_Type  \n",
       "count       3696  \n",
       "unique         3  \n",
       "top      Percent  \n",
       "freq        2364  "
      ]
     },
     "execution_count": 211,
     "metadata": {},
     "output_type": "execute_result"
    }
   ],
   "source": [
    "output_df.describe(include='all')"
   ]
  },
  {
   "cell_type": "markdown",
   "metadata": {},
   "source": [
    "### Some things to note about the output from .describe() above\n",
    "\n",
    "* \"count\" doesn't include null values, so the columns will have differing counts (the counts for Value and Rank in particular are a lot lower than the others). Overall row count makes sense...? I didn't drop rows with null Values, but that's maybe one extra line of code, if that's what the Alteryx solution does.\n",
    "\n",
    "* All values are all being treated as strings. In Python, I can't convert Nulls to an int or float, so Year/Value/Rank can't be represented as numbers. If any of these columns were numbers, the stats would include numeric summary statistics, like min/max/mean.\n",
    "\n",
    "* Unique counts helped me determine whether the conversion I performed above was done correctly. 8 Categories, 12 Metros, 11 Years, 12 Ranks, etc. Looks good...?"
   ]
  },
  {
   "cell_type": "markdown",
   "metadata": {},
   "source": [
    "## Write a CSV file."
   ]
  },
  {
   "cell_type": "code",
   "execution_count": 212,
   "metadata": {},
   "outputs": [],
   "source": [
    "output_df.to_csv(file_path + '/greater_msp_data.csv',index=False)"
   ]
  }
 ],
 "metadata": {
  "kernelspec": {
   "display_name": "Python 3",
   "language": "python",
   "name": "python3"
  },
  "language_info": {
   "codemirror_mode": {
    "name": "ipython",
    "version": 3
   },
   "file_extension": ".py",
   "mimetype": "text/x-python",
   "name": "python",
   "nbconvert_exporter": "python",
   "pygments_lexer": "ipython3",
   "version": "3.7.5"
  }
 },
 "nbformat": 4,
 "nbformat_minor": 2
}
