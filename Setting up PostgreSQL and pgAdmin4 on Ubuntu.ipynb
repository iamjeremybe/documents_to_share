{
 "cells": [
  {
   "cell_type": "markdown",
   "metadata": {},
   "source": [
    "# Setting up PostgreSQL and pgAdmin4 on Ubuntu\n",
    "\n",
    "## Install the correct packages\n",
    "\n",
    "I started by looking at [PostgreSQL's download page](https://www.postgresql.org/download/linux/ubuntu/). You can choose to add their repositories to your apt repository list, or I took their hint about using the packages already available in the Ubuntu distribution.\n",
    "\n",
    "The following packages are installed on my system now:\n",
    "\n",
    "```\n",
    "postgresql-10\n",
    "postgresql-client-10\n",
    "postgresql-client-common\n",
    "postgresql-common\n",
    "postgresql-contrib\n",
    "postgresql-server-dev-10\n",
    "\n",
    "libpq-dev\n",
    "libpq5\n",
    "\n",
    "build-essential\n",
    "libssl-dev\n",
    "libffi-dev\n",
    "libgmp3-dev\n",
    "virtualenv\n",
    "\n",
    "pgadmin4-apache2\n",
    "```\n",
    "\n",
    "Some of these are dependent on each other, so you probably don't have to list all of them when you run 'sudo apt install ...'. But it won't hurt.\n",
    "\n",
    "I may also have missed some dependencies, so if apt indicates it wants to install additional packages, let it do that.\n",
    "\n",
    "## Download and install pgadmin4 via a Python wheel\n",
    "\n",
    "PostgreSQL's download page, and some of the pages I link to below, suggest that pgadmin4 can be installed via apt as well, but I was not able to find this package.\n",
    "\n",
    "What I found after some searching is [the pgadmin4 download page](https://www.pgadmin.org/download/pgadmin-4-python-wheel/), from which you can download the latest Python wheel.\n",
    "\n",
    "I leaned heavily on [these instructions](https://medium.com/@nikhilkrishnan/how-to-install-pgadmin4-in-ubuntu-16-04-with-python3-aecc79de4b7d). \n",
    "\n",
    "Click on the latest version on the download page (for me, it was v4.3, released 2019/03/07).\n",
    "\n",
    "You'll be taken to a page with a link to a .whl file (pgadmin4-4.3-py2.py3-none-any.whl, for me). Copy the URL for this .whl file, then \n",
    "\n",
    "\n",
    "## Configuring the postgresql userid\n",
    "\n",
    "[This page](https://websiteforstudents.com/install-postgresql-server-11-and-manage-it-with-pgadmin4-on-ubuntu-16-04-18-04-18-10/) has some decent instructions to configure the postgresql userid, so you can actually connect to a database once you have pgAdmin4 running. I missed this step the first time. :)\n",
    "\n",
    "\n",
    "[I also used some instructions from this page](https://www.digitalocean.com/community/tutorials/how-to-install-and-use-postgresql-on-ubuntu-18-04) to create a PostgreSQL id for myself. I'm not sure if it matters that you are connecting as the postgresql userid, or your own, so consider this section optional.\n",
    "\n"
   ]
  }
 ],
 "metadata": {
  "kernelspec": {
   "display_name": "Python 3",
   "language": "python",
   "name": "python3"
  },
  "language_info": {
   "codemirror_mode": {
    "name": "ipython",
    "version": 3
   },
   "file_extension": ".py",
   "mimetype": "text/x-python",
   "name": "python",
   "nbconvert_exporter": "python",
   "pygments_lexer": "ipython3",
   "version": "3.6.7"
  }
 },
 "nbformat": 4,
 "nbformat_minor": 2
}
